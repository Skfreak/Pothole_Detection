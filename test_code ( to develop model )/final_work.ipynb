{
 "cells": [
  {
   "cell_type": "markdown",
   "metadata": {},
   "source": [
    "## code for graphical confusion matrix "
   ]
  },
  {
   "cell_type": "code",
   "execution_count": 69,
   "metadata": {
    "collapsed": true
   },
   "outputs": [],
   "source": [
    "def plot_confusion_matrix(cm,\n",
    "                          target_names,\n",
    "                          title='Confusion matrix',\n",
    "                          cmap=None,\n",
    "                          normalize=True):\n",
    "    \"\"\"\n",
    "    given a sklearn confusion matrix (cm), make a nice plot\n",
    "\n",
    "    Arguments\n",
    "    ---------\n",
    "    cm:           confusion matrix from sklearn.metrics.confusion_matrix\n",
    "\n",
    "    target_names: given classification classes such as [0, 1, 2]\n",
    "                  the class names, for example: ['high', 'medium', 'low']\n",
    "\n",
    "    title:        the text to display at the top of the matrix\n",
    "\n",
    "    cmap:         the gradient of the values displayed from matplotlib.pyplot.cm\n",
    "                  see http://matplotlib.org/examples/color/colormaps_reference.html\n",
    "                  plt.get_cmap('jet') or plt.cm.Blues\n",
    "\n",
    "    normalize:    If False, plot the raw numbers\n",
    "                  If True, plot the proportions\n",
    "\n",
    "    Usage\n",
    "    -----\n",
    "    plot_confusion_matrix(cm           = cm,                  # confusion matrix created by\n",
    "                                                              # sklearn.metrics.confusion_matrix\n",
    "                          normalize    = True,                # show proportions\n",
    "                          target_names = y_labels_vals,       # list of names of the classes\n",
    "                          title        = best_estimator_name) # title of graph\n",
    "\n",
    "    Citiation\n",
    "    ---------\n",
    "    http://scikit-learn.org/stable/auto_examples/model_selection/plot_confusion_matrix.html\n",
    "\n",
    "    \"\"\"\n",
    "    \n",
    "\n",
    "    accuracy = np.trace(cm) / float(np.sum(cm))\n",
    "    misclass = 1 - accuracy\n",
    "\n",
    "    if cmap is None:\n",
    "        cmap = plt.get_cmap('Blues')\n",
    "\n",
    "    plt.figure(figsize=(8, 6))\n",
    "    plt.imshow(cm, interpolation='nearest', cmap=cmap)\n",
    "    plt.title(title)\n",
    "    plt.colorbar()\n",
    "\n",
    "    if target_names is not None:\n",
    "        tick_marks = np.arange(len(target_names))\n",
    "        plt.xticks(tick_marks, target_names, rotation=45)\n",
    "        plt.yticks(tick_marks, target_names)\n",
    "\n",
    "    if normalize:\n",
    "        cm = cm.astype('float') / cm.sum(axis=1)[:, np.newaxis]\n",
    "\n",
    "\n",
    "    thresh = cm.max() / 1.5 if normalize else cm.max() / 2\n",
    "    for i, j in itertools.product(range(cm.shape[0]), range(cm.shape[1])):\n",
    "        if normalize:\n",
    "            plt.text(j, i, \"{:0.4f}\".format(cm[i, j]),\n",
    "                     horizontalalignment=\"center\",\n",
    "                     color=\"white\" if cm[i, j] > thresh else \"black\")\n",
    "        else:\n",
    "            plt.text(j, i, \"{:,}\".format(cm[i, j]),\n",
    "                     horizontalalignment=\"center\",\n",
    "                     color=\"white\" if cm[i, j] > thresh else \"black\")\n",
    "\n",
    "\n",
    "    plt.tight_layout()\n",
    "    plt.ylabel('True label')\n",
    "    plt.xlabel('Predicted label\\naccuracy={:0.4f}; misclass={:0.4f}'.format(accuracy, misclass))\n",
    "    plt.show()\n"
   ]
  },
  {
   "cell_type": "markdown",
   "metadata": {},
   "source": [
    "## importing packages"
   ]
  },
  {
   "cell_type": "code",
   "execution_count": 70,
   "metadata": {
    "collapsed": true
   },
   "outputs": [],
   "source": [
    "import pandas as pd\n",
    "import numpy as np\n",
    "import matplotlib.pyplot as plt\n",
    "import scipy.fftpack\n",
    "from sklearn import preprocessing\n",
    "from sklearn.metrics import confusion_matrix, f1_score\n",
    "from sklearn.model_selection import train_test_split\n",
    "from sklearn.linear_model import LogisticRegression\n",
    "from sklearn.metrics import accuracy_score\n",
    "from sklearn.svm import SVC\n",
    "from sklearn.decomposition import PCA\n",
    "from sklearn.preprocessing import StandardScaler\n",
    "import keras\n",
    "from keras.models import Sequential\n",
    "from keras.layers import Dense, Dropout\n",
    "import itertools\n",
    "\n",
    "# pandas_entropy is a .py file tht calculates entropy\n",
    "#import pandas_entropy as pe\n",
    "\n",
    "#import plot_conf_mat as cnf"
   ]
  },
  {
   "cell_type": "markdown",
   "metadata": {},
   "source": [
    "## Loading Data"
   ]
  },
  {
   "cell_type": "code",
   "execution_count": 71,
   "metadata": {},
   "outputs": [
    {
     "data": {
      "text/html": [
       "<div>\n",
       "<style scoped>\n",
       "    .dataframe tbody tr th:only-of-type {\n",
       "        vertical-align: middle;\n",
       "    }\n",
       "\n",
       "    .dataframe tbody tr th {\n",
       "        vertical-align: top;\n",
       "    }\n",
       "\n",
       "    .dataframe thead th {\n",
       "        text-align: right;\n",
       "    }\n",
       "</style>\n",
       "<table border=\"1\" class=\"dataframe\">\n",
       "  <thead>\n",
       "    <tr style=\"text-align: right;\">\n",
       "      <th></th>\n",
       "      <th>timestamp</th>\n",
       "      <th>accx</th>\n",
       "      <th>accy</th>\n",
       "      <th>accz</th>\n",
       "      <th>gyrx</th>\n",
       "      <th>gyry</th>\n",
       "      <th>gyrz</th>\n",
       "      <th>longitude</th>\n",
       "      <th>latitude</th>\n",
       "      <th>speed</th>\n",
       "    </tr>\n",
       "  </thead>\n",
       "  <tbody>\n",
       "    <tr>\n",
       "      <th>0</th>\n",
       "      <td>152178985702</td>\n",
       "      <td>0.152901</td>\n",
       "      <td>-0.657606</td>\n",
       "      <td>9.569601</td>\n",
       "      <td>-0.002742</td>\n",
       "      <td>0.008070</td>\n",
       "      <td>-0.005377</td>\n",
       "      <td>77.643354</td>\n",
       "      <td>12.87931</td>\n",
       "      <td>0.0</td>\n",
       "    </tr>\n",
       "    <tr>\n",
       "      <th>1</th>\n",
       "      <td>152178985720</td>\n",
       "      <td>-0.444470</td>\n",
       "      <td>-0.501953</td>\n",
       "      <td>9.585513</td>\n",
       "      <td>0.000966</td>\n",
       "      <td>-0.007851</td>\n",
       "      <td>-0.005371</td>\n",
       "      <td>77.643354</td>\n",
       "      <td>12.87931</td>\n",
       "      <td>0.0</td>\n",
       "    </tr>\n",
       "    <tr>\n",
       "      <th>2</th>\n",
       "      <td>152178985742</td>\n",
       "      <td>-0.195615</td>\n",
       "      <td>-0.610109</td>\n",
       "      <td>10.012871</td>\n",
       "      <td>0.000354</td>\n",
       "      <td>-0.009804</td>\n",
       "      <td>-0.004395</td>\n",
       "      <td>77.643354</td>\n",
       "      <td>12.87931</td>\n",
       "      <td>0.0</td>\n",
       "    </tr>\n",
       "    <tr>\n",
       "      <th>3</th>\n",
       "      <td>152178985764</td>\n",
       "      <td>-0.310112</td>\n",
       "      <td>-0.708696</td>\n",
       "      <td>9.713529</td>\n",
       "      <td>0.000969</td>\n",
       "      <td>-0.009312</td>\n",
       "      <td>-0.004761</td>\n",
       "      <td>77.643354</td>\n",
       "      <td>12.87931</td>\n",
       "      <td>0.0</td>\n",
       "    </tr>\n",
       "    <tr>\n",
       "      <th>4</th>\n",
       "      <td>152178985784</td>\n",
       "      <td>-0.400679</td>\n",
       "      <td>-0.345822</td>\n",
       "      <td>10.250119</td>\n",
       "      <td>-0.000861</td>\n",
       "      <td>-0.003700</td>\n",
       "      <td>-0.004639</td>\n",
       "      <td>77.643354</td>\n",
       "      <td>12.87931</td>\n",
       "      <td>0.0</td>\n",
       "    </tr>\n",
       "  </tbody>\n",
       "</table>\n",
       "</div>"
      ],
      "text/plain": [
       "      timestamp      accx      accy       accz      gyrx      gyry      gyrz  \\\n",
       "0  152178985702  0.152901 -0.657606   9.569601 -0.002742  0.008070 -0.005377   \n",
       "1  152178985720 -0.444470 -0.501953   9.585513  0.000966 -0.007851 -0.005371   \n",
       "2  152178985742 -0.195615 -0.610109  10.012871  0.000354 -0.009804 -0.004395   \n",
       "3  152178985764 -0.310112 -0.708696   9.713529  0.000969 -0.009312 -0.004761   \n",
       "4  152178985784 -0.400679 -0.345822  10.250119 -0.000861 -0.003700 -0.004639   \n",
       "\n",
       "   longitude  latitude  speed  \n",
       "0  77.643354  12.87931    0.0  \n",
       "1  77.643354  12.87931    0.0  \n",
       "2  77.643354  12.87931    0.0  \n",
       "3  77.643354  12.87931    0.0  \n",
       "4  77.643354  12.87931    0.0  "
      ]
     },
     "execution_count": 71,
     "metadata": {},
     "output_type": "execute_result"
    }
   ],
   "source": [
    "df1 = pd.read_csv('./sensor_data/sensorData_23-03-2018_15217898569-12_55.txt')\n",
    "df2 = pd.read_csv('./sensor_data/sensorData_23-03-2018_15217899985-1_02.txt')\n",
    "df3 = pd.read_csv('./sensor_data/sensorData_23-03-2018_15217903881-1_06.txt')\n",
    "df4 = pd.read_csv('./sensor_data/sensorData_23-03-2018_15217906095-1_09.txt')\n",
    "df5 = pd.read_csv('./sensor_data/sensorData_23-03-2018_15217913809-1_24.txt')\n",
    "df6 = pd.read_csv('./sensor_data/sensorData_23-03-2018_15217883948-12_31.txt')\n",
    "df7 = pd.read_csv('./sensor_data/sensorData_23-03-2018_15217908058-1_13.txt')\n",
    "df8 = pd.read_csv('./sensor_data_old/sensorData_19-03-2018_15214527501_15-18.txt')\n",
    "df9 = pd.read_csv('./sensor_data_old/sensorData_19-03-2018_15214537070_15-34.txt')\n",
    "\n",
    "# skip below file : NaN problem with data\n",
    "#df10 = pd.read_csv('./sensor_data_old/sensorData_19-03-2018_15214540891_15-41.txt')\n",
    "\n",
    "df11 = pd.read_csv('./sensor_data_old/sensorData_19-03-2018_15214551353_15-58.txt')\n",
    "df12 = pd.read_csv('./sensor_data_old/sensorData_19-03-2018_15214560034_16-13.txt')\n",
    "df13 = pd.read_csv('./sensor_data_new/sensorData_04-04-2018_15228184860-10_53.txt')\n",
    "df14 = pd.read_csv('./sensor_data_new/sensorData_04-04-2018_15228194973-10_58.txt')\n",
    "df15 = pd.read_csv('./sensor_data_new/sensorData_04-04-2018_15228197814-11_02.txt')\n",
    "df16 = pd.read_csv('./sensor_data_new/sensorData_04-04-2018_15228200158-11_06.txt')\n",
    "df17 = pd.read_csv('./sensor_data_new/sensorData_04-04-2018_15228202727-11_14.txt')\n",
    "df18 = pd.read_csv('./sensor_data_new/sensorData_04-04-2018_15228207467-11_36.txt')\n",
    "df19 = pd.read_csv('./sensor_data_new/sensorData_04-04-2018_15228271593-1_24.txt')\n",
    "df20 = pd.read_csv('./sensor_data_new/sensorData_04-04-2018_15228285553-1_47.txt')\n",
    "\n",
    "\n",
    "# dataframes for pothole annotated files\n",
    "\n",
    "pdf1 = pd.read_csv('./potholes/sensorData_23-03-2018_15217898607-12_55.txt')\n",
    "pdf2 = pd.read_csv('./potholes/sensorData_23-03-2018_15217899997-1_02.txt')\n",
    "pdf3 = pd.read_csv('./potholes/sensorData_23-03-2018_15217903905-1_06.txt')\n",
    "pdf4 = pd.read_csv('./potholes/sensorData_23-03-2018_15217906130-1_09.txt')\n",
    "pdf5 = pd.read_csv('./potholes/sensorData_23-03-2018_15217914003-1_24.txt')\n",
    "pdf6 = pd.read_csv('./potholes/sensorData_23-03-2018_15217883957-12_31.txt')\n",
    "pdf7 = pd.read_csv('./potholes/sensorData_23-03-2018_15217908081-1_13.txt')\n",
    "pdf8 = pd.read_csv('./potholes_old/sensorData_19-03-2018_15214527532_15-18.txt')\n",
    "pdf9 = pd.read_csv('./potholes_old/sensorData_19-03-2018_15214537329_15-34.txt')\n",
    "\n",
    "# below file contains Nan values\n",
    "#pdf10 = pd.read_csv('./potholes_old/sensorData_19-03-2018_15214540946_15-41.txt')\n",
    "\n",
    "pdf11 = pd.read_csv('./potholes_old/sensorData_19-03-2018_15214551395_15-58.txt')\n",
    "pdf12 = pd.read_csv('./potholes_old/sensorData_19-03-2018_15214560096_16-13.txt')\n",
    "pdf13 = pd.read_csv('./potholes_new/sensorData_04-04-2018_15228184880-10_53.txt')\n",
    "pdf14 = pd.read_csv('./potholes_new/sensorData_04-04-2018_15228194989-10_58.txt')\n",
    "pdf15 = pd.read_csv('./potholes_new/sensorData_04-04-2018_15228197815-11_02.txt')\n",
    "pdf16 = pd.read_csv('./potholes_new/sensorData_04-04-2018_15228200151-11_06.txt')\n",
    "pdf17 = pd.read_csv('./potholes_new/sensorData_04-04-2018_15228202691-11_14.txt')\n",
    "pdf18 = pd.read_csv('./potholes_new/sensorData_04-04-2018_15228207479-11_36.txt')\n",
    "pdf19 = pd.read_csv('./potholes_new/sensorData_04-04-2018_15228271641-1_24.txt')\n",
    "\n",
    "pdf20 = pd.read_csv('./potholes_new/sensorData_04-04-2018_15228285574-1_47.txt')\n",
    "\n",
    "df1.head()"
   ]
  },
  {
   "cell_type": "code",
   "execution_count": 72,
   "metadata": {
    "collapsed": true
   },
   "outputs": [],
   "source": [
    "#pe.ID3_entropies(df1)"
   ]
  },
  {
   "cell_type": "code",
   "execution_count": 73,
   "metadata": {},
   "outputs": [
    {
     "data": {
      "text/html": [
       "<div>\n",
       "<style scoped>\n",
       "    .dataframe tbody tr th:only-of-type {\n",
       "        vertical-align: middle;\n",
       "    }\n",
       "\n",
       "    .dataframe tbody tr th {\n",
       "        vertical-align: top;\n",
       "    }\n",
       "\n",
       "    .dataframe thead th {\n",
       "        text-align: right;\n",
       "    }\n",
       "</style>\n",
       "<table border=\"1\" class=\"dataframe\">\n",
       "  <thead>\n",
       "    <tr style=\"text-align: right;\">\n",
       "      <th></th>\n",
       "      <th>file_id</th>\n",
       "      <th>ts_start</th>\n",
       "      <th>ts_end</th>\n",
       "      <th>mean_ax</th>\n",
       "      <th>mean_ay</th>\n",
       "      <th>mean_az</th>\n",
       "      <th>mean_gx</th>\n",
       "      <th>mean_gy</th>\n",
       "      <th>mean_gz</th>\n",
       "      <th>sd_ax</th>\n",
       "      <th>...</th>\n",
       "      <th>gdx</th>\n",
       "      <th>gdy</th>\n",
       "      <th>gdz</th>\n",
       "      <th>fft_ax</th>\n",
       "      <th>fft_ay</th>\n",
       "      <th>fft_az</th>\n",
       "      <th>sp_ax</th>\n",
       "      <th>sp_ay</th>\n",
       "      <th>sp_az</th>\n",
       "      <th>label</th>\n",
       "    </tr>\n",
       "  </thead>\n",
       "  <tbody>\n",
       "  </tbody>\n",
       "</table>\n",
       "<p>0 rows × 82 columns</p>\n",
       "</div>"
      ],
      "text/plain": [
       "Empty DataFrame\n",
       "Columns: [file_id, ts_start, ts_end, mean_ax, mean_ay, mean_az, mean_gx, mean_gy, mean_gz, sd_ax, sd_ay, sd_az, sd_gx, sd_gy, sd_gz, min_ax, min_ay, min_az, min_gx, min_gy, min_gz, max_ax, max_ay, max_az, max_gx, max_gy, max_gz, var_ax, var_ay, var_az, var_gx, var_gy, var_gz, med_ax, med_ay, med_az, med_gx, med_gy, med_gz, quant1_ax, quant1_ay, quant1_az, quant1_gx, quant1_gy, quant1_gz, quant2_ax, quant2_ay, quant2_az, quant2_gx, quant2_gy, quant2_gz, quant3_ax, quant3_ay, quant3_az, quant3_gx, quant3_gy, quant3_gz, mad_ax, mad_ay, mad_az, mad_gx, mad_gy, mad_gz, skew_ax, skew_ay, skew_az, skew_gx, skew_gy, skew_gz, adx, ady, adz, gdx, gdy, gdz, fft_ax, fft_ay, fft_az, sp_ax, sp_ay, sp_az, label]\n",
       "Index: []\n",
       "\n",
       "[0 rows x 82 columns]"
      ]
     },
     "execution_count": 73,
     "metadata": {},
     "output_type": "execute_result"
    }
   ],
   "source": [
    "df_main = pd.read_csv('./features.txt')\n",
    "df_main"
   ]
  },
  {
   "cell_type": "markdown",
   "metadata": {},
   "source": [
    "## feature extraction "
   ]
  },
  {
   "cell_type": "code",
   "execution_count": 74,
   "metadata": {
    "collapsed": true
   },
   "outputs": [],
   "source": [
    "# this is to calcualte features by aggregating 10 data pts\n",
    "df_index =0\n",
    "\n",
    "for j in range(0,19):\n",
    "    \n",
    "    if(df_index == 0):\n",
    "        df = df1\n",
    "        pdf = pdf1\n",
    "    elif(df_index == 1):\n",
    "        df = df2\n",
    "        pdf = pdf2\n",
    "    elif(df_index == 2):\n",
    "        df = df3\n",
    "        pdf = pdf3\n",
    "    elif(df_index == 3):\n",
    "        df = df4\n",
    "        pdf = pdf4\n",
    "    elif(df_index == 4):\n",
    "        df = df5\n",
    "        pdf = pdf5\n",
    "    elif(df_index == 5):\n",
    "        df = df6\n",
    "        pdf = pdf6\n",
    "    elif(df_index == 6):\n",
    "        df = df7\n",
    "        pdf = pdf7\n",
    "    elif(df_index == 7):\n",
    "        df = df8\n",
    "        pdf = pdf8\n",
    "    elif(df_index == 8):\n",
    "        df = df9\n",
    "        pdf = pdf9\n",
    "    \n",
    "    elif(df_index == 9):\n",
    "        df = df11\n",
    "        pdf = pdf11\n",
    "    elif(df_index == 10):\n",
    "        df = df12\n",
    "        pdf = pdf12\n",
    "    elif(df_index == 11):\n",
    "        df = df13\n",
    "        pdf = pdf13\n",
    "    elif(df_index == 12):\n",
    "        df = df14\n",
    "        pdf = pdf14\n",
    "    elif(df_index == 13):\n",
    "        df = df15\n",
    "        pdf = pdf15\n",
    "    elif(df_index == 14):\n",
    "        df = df16\n",
    "        pdf = pdf16\n",
    "    elif(df_index == 15):\n",
    "        df = df17\n",
    "        pdf = pdf17\n",
    "    elif(df_index == 16):\n",
    "        df = df18\n",
    "        pdf = pdf18\n",
    "    elif(df_index == 17):\n",
    "        df = df19\n",
    "        pdf = pdf19\n",
    "    elif(df_index == 18):\n",
    "        df = df20\n",
    "        pdf = pdf20\n",
    "    else:      # skipping 10 no file bcz of NaN error for now \n",
    "        df = df10\n",
    "        pdf = pdf10\n",
    "    \n",
    "    df_index += 1\n",
    "    count = 0\n",
    "    k = 0\n",
    "    \n",
    "    for i in range(1,len(df),10):    # step size is 10 means aggregrating 10 data pts means 1 second data\n",
    "        if(i+9 >= len(df)):\n",
    "            break\n",
    "        #print(i)\n",
    "        dt = df[i-1:i+10]      # chunking the given dataframe into smaller dataframe containing 10 pts\n",
    "        start = dt.timestamp[i-1]\n",
    "        end = dt.timestamp[i+9]\n",
    "        \n",
    "   \n",
    "# time-domain features : mean , max , min , var , std dev, median , interquartile range,\n",
    "#                       mean of abs deviation , skewness < left : root mean sq error , entropy       \n",
    "        # mean \n",
    "        a = dt.mean()      # will give an array of mean of columns of dt\n",
    "        mean_ax = a[1]\n",
    "        mean_ay = a[2]\n",
    "        mean_az = a[3]\n",
    "        \n",
    "        mean_gx = a[4]\n",
    "        mean_gy = a[5]\n",
    "        mean_gz = a[6]\n",
    "       \n",
    "        # min\n",
    "        a = dt.min()\n",
    "        min_ax = a[1]\n",
    "        min_ay = a[2]\n",
    "        min_az = a[3]\n",
    "        \n",
    "        min_gx = a[4]\n",
    "        min_gy = a[5]\n",
    "        min_gz = a[6]\n",
    "\n",
    "        # max\n",
    "        a = dt.max()\n",
    "        max_ax = a[1]\n",
    "        max_ay = a[2]\n",
    "        max_az = a[3]\n",
    "        \n",
    "        max_gx = a[4]\n",
    "        max_gy = a[5]\n",
    "        max_gz = a[6]\n",
    "\n",
    "        # std dev\n",
    "        a = dt.std()\n",
    "        sd_ax = a[1]\n",
    "        sd_ay = a[2]\n",
    "        sd_az = a[3]\n",
    "\n",
    "        sd_gx = a[4]\n",
    "        sd_gy = a[5]\n",
    "        sd_gz = a[6]\n",
    "\n",
    "        # variance\n",
    "        a = dt.var()\n",
    "        var_ax = a[1]\n",
    "        var_ay = a[2]\n",
    "        var_az = a[3]\n",
    "        \n",
    "        var_gx = a[4]\n",
    "        var_gy = a[5]\n",
    "        var_gz = a[6]\n",
    "        \n",
    "        #adding max-min\n",
    "        mm_x = max_ax - min_ax\n",
    "        mm_y = max_ay - min_ay\n",
    "        mm_z = max_az - min_az\n",
    "       \n",
    "\n",
    "        # median coln wise of acc data\n",
    "        a = dt.median()\n",
    "        med_ax = a[1]\n",
    "        med_ay = a[2]\n",
    "        med_az = a[3]\n",
    "        \n",
    "        med_gx = a[4]\n",
    "        med_gy = a[5]\n",
    "        med_gz = a[6]\n",
    "        \n",
    "        # entropy coln wise of acc data\n",
    "        \n",
    "        # interquantile ranges\n",
    "        a = dt.quantile(.25)\n",
    "        quant1_ax = a[1]\n",
    "        quant1_ay = a[2]\n",
    "        quant1_az = a[3]\n",
    "\n",
    "        quant1_gx = a[4]\n",
    "        quant1_gy = a[5]\n",
    "        quant1_gz = a[6]\n",
    "\n",
    "        a = dt.quantile(.5)\n",
    "        quant2_ax = a[1]\n",
    "        quant2_ay = a[2]\n",
    "        quant2_az = a[3]\n",
    "    \n",
    "        quant2_gx = a[4]\n",
    "        quant2_gy = a[5]\n",
    "        quant2_gz = a[6]\n",
    "    \n",
    "        a = dt.quantile(.75)\n",
    "        quant3_ax = a[1]\n",
    "        quant3_ay = a[2]\n",
    "        quant3_az = a[3]\n",
    "\n",
    "        quant3_gx = a[4]\n",
    "        quant3_gy = a[5]\n",
    "        quant3_gz = a[6]\n",
    "\n",
    "        \n",
    "        # mean absolute deviation\n",
    "        a = dt.mad()\n",
    "        mad_ax = a[1]\n",
    "        mad_ay = a[2]\n",
    "        mad_az = a[3]\n",
    "        \n",
    "        mad_gx = a[4]\n",
    "        mad_gy = a[5]\n",
    "        mad_gz = a[6]\n",
    "        \n",
    "        # skewness \n",
    "        a = dt.skew()\n",
    "        skew_ax = a[1]\n",
    "        skew_ay = a[2]\n",
    "        skew_az = a[3]\n",
    "    \n",
    "        skew_gx = a[4]\n",
    "        skew_gy = a[5]\n",
    "        skew_gz = a[6]\n",
    " \n",
    "\n",
    "# gradient based features : gradient with respect to timestamp\n",
    "\n",
    "        #taking gradients\n",
    "        arx = dt['accx']\n",
    "        ary = dt['accy']\n",
    "        arz = dt['accz']\n",
    "\n",
    "        grx = dt['gyrx']\n",
    "        gry = dt['gyry']\n",
    "        grz = dt['gyrz']\n",
    "        \n",
    "        tm = dt['timestamp']\n",
    "        adx = np.gradient(arx, tm).max()\n",
    "        ady = np.gradient(ary, tm).max()\n",
    "        adz = np.gradient(arz, tm).max()\n",
    "        gdx = np.gradient(grx, tm).max()\n",
    "        gdy = np.gradient(gry, tm).max()\n",
    "        gdz = np.gradient(grz, tm).max()\n",
    "\n",
    "        \n",
    "# frequency domain features : fft , spectral energy ,   \n",
    "        \n",
    "        #taking fourier transforms\n",
    "        ft = scipy.fftpack.fft(dt)\n",
    "        \n",
    "        fft_ax = ft[1].max().imag\n",
    "        fft_ay = ft[2].max().imag\n",
    "        fft_az = ft[3].max().imag\n",
    "        \n",
    "        #getting spectral energy\n",
    "        sp_ax = np.mean(np.square(ft[1].real) + np.square(ft[1].imag))\n",
    "        sp_ay = np.mean(np.square(ft[2].real) + np.square(ft[2].imag))\n",
    "        sp_az = np.mean(np.square(ft[3].real) + np.square(ft[3].imag))\n",
    "        \n",
    "        file_id = j + 1\n",
    "        \n",
    "        '''   \n",
    "        #adding label\n",
    "        if(k >= len(pdf)):\n",
    "            break        \n",
    "        \n",
    "        if(pdf['timestamp'][k] > start and pdf['timestamp'][k] <= end ):\n",
    "            \n",
    "            label = 1\n",
    "            k = k + 1\n",
    "            #print(\"haha\")\n",
    "            \n",
    "            if(k >= len(pdf)):\n",
    "                break\n",
    "            while(pdf['timestamp'][k] > start and pdf['timestamp'][k] <= end):\n",
    "                k = k + 1\n",
    "                if(k >= len(pdf)):\n",
    "                        break\n",
    "        else:\n",
    "            label = 0\n",
    "        '''\n",
    "        \n",
    "        if(k >= len(pdf)):\n",
    "            break        \n",
    "        \n",
    "        if(pdf['timestamp'][k] > start and pdf['timestamp'][k] <= end ):\n",
    "            if(pdf['type'][k] == \"pothole\"):\n",
    "                label = 1   # 1 means pothole\n",
    "            else:\n",
    "                label = 2   # 2 means others\n",
    "                \n",
    "            k = k + 1\n",
    "            #print(\"haha\")\n",
    "            \n",
    "            if(k >= len(pdf)):\n",
    "                break\n",
    "            while(pdf['timestamp'][k] > start and pdf['timestamp'][k] <= end):\n",
    "                k = k + 1\n",
    "                if(k >= len(pdf)):\n",
    "                        break\n",
    "        else:\n",
    "            label = 0\n",
    "    \n",
    "    \n",
    "        df_temp = pd.DataFrame([[file_id,start,end,mean_ax,mean_ay,mean_az,mean_gx,mean_gy,mean_gz,sd_ax,\n",
    "                                 sd_ay,sd_az,sd_gx,sd_gy,sd_gz,min_ax,min_ay,min_az,min_gx,min_gy,min_gz,\n",
    "                                 max_ax,max_ay,max_az,max_gx,max_gy,max_gz,var_ax,var_ay,var_az,var_gx,var_gy,\n",
    "                                 var_gz,med_ax,med_ay,med_az,med_gx,med_gy,med_gz,quant1_ax,quant1_ay,quant1_az\n",
    "                                 ,quant1_gx,quant1_gy,quant1_gz,quant2_ax,quant2_ay,quant2_az,quant2_gx,\n",
    "                                 quant2_gy,quant2_gz,quant3_ax,quant3_ay,quant3_az,quant3_gx,quant3_gy,\n",
    "                                 quant3_gz,mad_ax,mad_ay,mad_az,mad_gx,mad_gy,mad_gz,skew_ax,skew_ay,\n",
    "                                 skew_az,skew_gx,skew_gy,skew_gz,adx,ady,adz,gdx,gdy,gdz,fft_ax,fft_ay,fft_az,\n",
    "                                 sp_ax,sp_ay,sp_az,label]], \n",
    "\n",
    "                              columns = ('file_id','ts_start','ts_end','mean_ax','mean_ay','mean_az','mean_gx','mean_gy',\n",
    "                                         'mean_gz','sd_ax','sd_ay','sd_az','sd_gx','sd_gy','sd_gz','min_ax','min_ay'\n",
    "                                         ,'min_az',\n",
    "                                         'min_gx','min_gy','min_gz','max_ax','max_ay','max_az','max_gx','max_gy','max_gz',\n",
    "                                         'var_ax','var_ay','var_az','var_gx','var_gy','var_gz','med_ax','med_ay'\n",
    "                                         ,'med_az','med_gx',\n",
    "                                         'med_gy','med_gz','quant1_ax','quant1_ay','quant1_az','quant1_gx',\n",
    "                                         'quant1_gy',\n",
    "                                         'quant1_gz','quant2_ax','quant2_ay','quant2_az','quant2_gx','quant2_gy'\n",
    "                                         ,\n",
    "                                         'quant2_gz','quant3_ax','quant3_ay','quant3_az','quant3_gx','quant3_gy',\n",
    "                                         'quant3_gz',\n",
    "                                         'mad_ax','mad_ay','mad_az','mad_gx','mad_gy','mad_gz','skew_ax',\n",
    "                                         'skew_ay','skew_az',\n",
    "                                         'skew_gx','skew_gy','skew_gz','adx','ady','adz','gdx','gdy','gdz'\n",
    "                                         ,'fft_ax','fft_ay','fft_az',\n",
    "                                         'sp_ax','sp_ay','sp_az','label'))\n",
    "        \n",
    "        df_main = df_main.append(df_temp)\n",
    "        #count = count + 1\n",
    "        #i = i+20"
   ]
  },
  {
   "cell_type": "markdown",
   "metadata": {},
   "source": [
    "### Imbalanced Data"
   ]
  },
  {
   "cell_type": "code",
   "execution_count": 75,
   "metadata": {},
   "outputs": [
    {
     "data": {
      "text/plain": [
       "0    3155\n",
       "1     182\n",
       "2     143\n",
       "Name: label, dtype: int64"
      ]
     },
     "execution_count": 75,
     "metadata": {},
     "output_type": "execute_result"
    }
   ],
   "source": [
    "df_main['label'].value_counts()"
   ]
  },
  {
   "cell_type": "code",
   "execution_count": 76,
   "metadata": {},
   "outputs": [
    {
     "name": "stdout",
     "output_type": "stream",
     "text": [
      "(3480, 82)\n"
     ]
    },
    {
     "data": {
      "text/html": [
       "<div>\n",
       "<style scoped>\n",
       "    .dataframe tbody tr th:only-of-type {\n",
       "        vertical-align: middle;\n",
       "    }\n",
       "\n",
       "    .dataframe tbody tr th {\n",
       "        vertical-align: top;\n",
       "    }\n",
       "\n",
       "    .dataframe thead th {\n",
       "        text-align: right;\n",
       "    }\n",
       "</style>\n",
       "<table border=\"1\" class=\"dataframe\">\n",
       "  <thead>\n",
       "    <tr style=\"text-align: right;\">\n",
       "      <th></th>\n",
       "      <th>file_id</th>\n",
       "      <th>ts_start</th>\n",
       "      <th>ts_end</th>\n",
       "      <th>mean_ax</th>\n",
       "      <th>mean_ay</th>\n",
       "      <th>mean_az</th>\n",
       "      <th>mean_gx</th>\n",
       "      <th>mean_gy</th>\n",
       "      <th>mean_gz</th>\n",
       "      <th>sd_ax</th>\n",
       "      <th>...</th>\n",
       "      <th>gdx</th>\n",
       "      <th>gdy</th>\n",
       "      <th>gdz</th>\n",
       "      <th>fft_ax</th>\n",
       "      <th>fft_ay</th>\n",
       "      <th>fft_az</th>\n",
       "      <th>sp_ax</th>\n",
       "      <th>sp_ay</th>\n",
       "      <th>sp_az</th>\n",
       "      <th>label</th>\n",
       "    </tr>\n",
       "  </thead>\n",
       "  <tbody>\n",
       "    <tr>\n",
       "      <th>0</th>\n",
       "      <td>1</td>\n",
       "      <td>152178985702</td>\n",
       "      <td>152178985912</td>\n",
       "      <td>-0.333256</td>\n",
       "      <td>-0.529265</td>\n",
       "      <td>9.790426</td>\n",
       "      <td>0.001520</td>\n",
       "      <td>-0.000742</td>\n",
       "      <td>-0.004106</td>\n",
       "      <td>0.242658</td>\n",
       "      <td>...</td>\n",
       "      <td>0.000206</td>\n",
       "      <td>0.000820</td>\n",
       "      <td>0.000180</td>\n",
       "      <td>0.0</td>\n",
       "      <td>0.0</td>\n",
       "      <td>0.0</td>\n",
       "      <td>2.315844e+22</td>\n",
       "      <td>2.315844e+22</td>\n",
       "      <td>2.315844e+22</td>\n",
       "      <td>0</td>\n",
       "    </tr>\n",
       "    <tr>\n",
       "      <th>0</th>\n",
       "      <td>1</td>\n",
       "      <td>152178985912</td>\n",
       "      <td>152178986124</td>\n",
       "      <td>-0.422345</td>\n",
       "      <td>-0.421185</td>\n",
       "      <td>9.919289</td>\n",
       "      <td>0.005632</td>\n",
       "      <td>-0.011685</td>\n",
       "      <td>-0.034437</td>\n",
       "      <td>0.254251</td>\n",
       "      <td>...</td>\n",
       "      <td>0.000518</td>\n",
       "      <td>0.001123</td>\n",
       "      <td>0.003850</td>\n",
       "      <td>0.0</td>\n",
       "      <td>0.0</td>\n",
       "      <td>0.0</td>\n",
       "      <td>2.315844e+22</td>\n",
       "      <td>2.315844e+22</td>\n",
       "      <td>2.315844e+22</td>\n",
       "      <td>0</td>\n",
       "    </tr>\n",
       "    <tr>\n",
       "      <th>0</th>\n",
       "      <td>1</td>\n",
       "      <td>152178986124</td>\n",
       "      <td>152178986337</td>\n",
       "      <td>-0.312917</td>\n",
       "      <td>-0.081383</td>\n",
       "      <td>9.855358</td>\n",
       "      <td>0.006088</td>\n",
       "      <td>-0.000170</td>\n",
       "      <td>-0.020531</td>\n",
       "      <td>0.279257</td>\n",
       "      <td>...</td>\n",
       "      <td>0.000335</td>\n",
       "      <td>0.000809</td>\n",
       "      <td>0.000000</td>\n",
       "      <td>0.0</td>\n",
       "      <td>0.0</td>\n",
       "      <td>0.0</td>\n",
       "      <td>2.315844e+22</td>\n",
       "      <td>2.315844e+22</td>\n",
       "      <td>2.315844e+22</td>\n",
       "      <td>0</td>\n",
       "    </tr>\n",
       "    <tr>\n",
       "      <th>0</th>\n",
       "      <td>1</td>\n",
       "      <td>152178986337</td>\n",
       "      <td>152178986549</td>\n",
       "      <td>-0.374978</td>\n",
       "      <td>0.672824</td>\n",
       "      <td>9.570090</td>\n",
       "      <td>0.008233</td>\n",
       "      <td>-0.016506</td>\n",
       "      <td>-0.037798</td>\n",
       "      <td>0.235341</td>\n",
       "      <td>...</td>\n",
       "      <td>0.000588</td>\n",
       "      <td>0.002114</td>\n",
       "      <td>0.005685</td>\n",
       "      <td>0.0</td>\n",
       "      <td>0.0</td>\n",
       "      <td>0.0</td>\n",
       "      <td>2.315844e+22</td>\n",
       "      <td>2.315844e+22</td>\n",
       "      <td>2.315844e+22</td>\n",
       "      <td>0</td>\n",
       "    </tr>\n",
       "    <tr>\n",
       "      <th>0</th>\n",
       "      <td>1</td>\n",
       "      <td>152178986549</td>\n",
       "      <td>152178986762</td>\n",
       "      <td>-0.313581</td>\n",
       "      <td>0.429496</td>\n",
       "      <td>9.818923</td>\n",
       "      <td>0.000324</td>\n",
       "      <td>-0.010486</td>\n",
       "      <td>-0.039492</td>\n",
       "      <td>0.153429</td>\n",
       "      <td>...</td>\n",
       "      <td>0.000878</td>\n",
       "      <td>0.001165</td>\n",
       "      <td>0.003677</td>\n",
       "      <td>0.0</td>\n",
       "      <td>0.0</td>\n",
       "      <td>0.0</td>\n",
       "      <td>2.315844e+22</td>\n",
       "      <td>2.315844e+22</td>\n",
       "      <td>2.315844e+22</td>\n",
       "      <td>0</td>\n",
       "    </tr>\n",
       "  </tbody>\n",
       "</table>\n",
       "<p>5 rows × 82 columns</p>\n",
       "</div>"
      ],
      "text/plain": [
       "  file_id      ts_start        ts_end   mean_ax   mean_ay   mean_az   mean_gx  \\\n",
       "0       1  152178985702  152178985912 -0.333256 -0.529265  9.790426  0.001520   \n",
       "0       1  152178985912  152178986124 -0.422345 -0.421185  9.919289  0.005632   \n",
       "0       1  152178986124  152178986337 -0.312917 -0.081383  9.855358  0.006088   \n",
       "0       1  152178986337  152178986549 -0.374978  0.672824  9.570090  0.008233   \n",
       "0       1  152178986549  152178986762 -0.313581  0.429496  9.818923  0.000324   \n",
       "\n",
       "    mean_gy   mean_gz     sd_ax  ...         gdx       gdy       gdz  fft_ax  \\\n",
       "0 -0.000742 -0.004106  0.242658  ...    0.000206  0.000820  0.000180     0.0   \n",
       "0 -0.011685 -0.034437  0.254251  ...    0.000518  0.001123  0.003850     0.0   \n",
       "0 -0.000170 -0.020531  0.279257  ...    0.000335  0.000809  0.000000     0.0   \n",
       "0 -0.016506 -0.037798  0.235341  ...    0.000588  0.002114  0.005685     0.0   \n",
       "0 -0.010486 -0.039492  0.153429  ...    0.000878  0.001165  0.003677     0.0   \n",
       "\n",
       "   fft_ay  fft_az         sp_ax         sp_ay         sp_az  label  \n",
       "0     0.0     0.0  2.315844e+22  2.315844e+22  2.315844e+22      0  \n",
       "0     0.0     0.0  2.315844e+22  2.315844e+22  2.315844e+22      0  \n",
       "0     0.0     0.0  2.315844e+22  2.315844e+22  2.315844e+22      0  \n",
       "0     0.0     0.0  2.315844e+22  2.315844e+22  2.315844e+22      0  \n",
       "0     0.0     0.0  2.315844e+22  2.315844e+22  2.315844e+22      0  \n",
       "\n",
       "[5 rows x 82 columns]"
      ]
     },
     "execution_count": 76,
     "metadata": {},
     "output_type": "execute_result"
    }
   ],
   "source": [
    "print(df_main.shape)\n",
    "df_main.head()\n",
    "#df_main['file_id'].unique() "
   ]
  },
  {
   "cell_type": "code",
   "execution_count": 77,
   "metadata": {},
   "outputs": [
    {
     "data": {
      "text/html": [
       "<div>\n",
       "<style scoped>\n",
       "    .dataframe tbody tr th:only-of-type {\n",
       "        vertical-align: middle;\n",
       "    }\n",
       "\n",
       "    .dataframe tbody tr th {\n",
       "        vertical-align: top;\n",
       "    }\n",
       "\n",
       "    .dataframe thead th {\n",
       "        text-align: right;\n",
       "    }\n",
       "</style>\n",
       "<table border=\"1\" class=\"dataframe\">\n",
       "  <thead>\n",
       "    <tr style=\"text-align: right;\">\n",
       "      <th></th>\n",
       "      <th>mean_ax</th>\n",
       "      <th>mean_ay</th>\n",
       "      <th>mean_az</th>\n",
       "      <th>mean_gx</th>\n",
       "      <th>mean_gy</th>\n",
       "      <th>mean_gz</th>\n",
       "      <th>sd_ax</th>\n",
       "      <th>sd_ay</th>\n",
       "      <th>sd_az</th>\n",
       "      <th>sd_gx</th>\n",
       "      <th>...</th>\n",
       "      <th>fft_ax</th>\n",
       "      <th>fft_ay</th>\n",
       "      <th>fft_az</th>\n",
       "      <th>sp_ax</th>\n",
       "      <th>sp_ay</th>\n",
       "      <th>sp_az</th>\n",
       "      <th>ts_start</th>\n",
       "      <th>ts_end</th>\n",
       "      <th>label</th>\n",
       "      <th>file_id</th>\n",
       "    </tr>\n",
       "  </thead>\n",
       "  <tbody>\n",
       "    <tr>\n",
       "      <th>0</th>\n",
       "      <td>-0.333256</td>\n",
       "      <td>-0.529265</td>\n",
       "      <td>9.790426</td>\n",
       "      <td>0.001520</td>\n",
       "      <td>-0.000742</td>\n",
       "      <td>-0.004106</td>\n",
       "      <td>0.242658</td>\n",
       "      <td>0.162682</td>\n",
       "      <td>0.286165</td>\n",
       "      <td>0.002502</td>\n",
       "      <td>...</td>\n",
       "      <td>0.0</td>\n",
       "      <td>0.0</td>\n",
       "      <td>0.0</td>\n",
       "      <td>2.315844e+22</td>\n",
       "      <td>2.315844e+22</td>\n",
       "      <td>2.315844e+22</td>\n",
       "      <td>152178985702</td>\n",
       "      <td>152178985912</td>\n",
       "      <td>0</td>\n",
       "      <td>1</td>\n",
       "    </tr>\n",
       "    <tr>\n",
       "      <th>0</th>\n",
       "      <td>-0.422345</td>\n",
       "      <td>-0.421185</td>\n",
       "      <td>9.919289</td>\n",
       "      <td>0.005632</td>\n",
       "      <td>-0.011685</td>\n",
       "      <td>-0.034437</td>\n",
       "      <td>0.254251</td>\n",
       "      <td>0.158947</td>\n",
       "      <td>0.201366</td>\n",
       "      <td>0.007812</td>\n",
       "      <td>...</td>\n",
       "      <td>0.0</td>\n",
       "      <td>0.0</td>\n",
       "      <td>0.0</td>\n",
       "      <td>2.315844e+22</td>\n",
       "      <td>2.315844e+22</td>\n",
       "      <td>2.315844e+22</td>\n",
       "      <td>152178985912</td>\n",
       "      <td>152178986124</td>\n",
       "      <td>0</td>\n",
       "      <td>1</td>\n",
       "    </tr>\n",
       "    <tr>\n",
       "      <th>0</th>\n",
       "      <td>-0.312917</td>\n",
       "      <td>-0.081383</td>\n",
       "      <td>9.855358</td>\n",
       "      <td>0.006088</td>\n",
       "      <td>-0.000170</td>\n",
       "      <td>-0.020531</td>\n",
       "      <td>0.279257</td>\n",
       "      <td>0.514140</td>\n",
       "      <td>0.223400</td>\n",
       "      <td>0.006141</td>\n",
       "      <td>...</td>\n",
       "      <td>0.0</td>\n",
       "      <td>0.0</td>\n",
       "      <td>0.0</td>\n",
       "      <td>2.315844e+22</td>\n",
       "      <td>2.315844e+22</td>\n",
       "      <td>2.315844e+22</td>\n",
       "      <td>152178986124</td>\n",
       "      <td>152178986337</td>\n",
       "      <td>0</td>\n",
       "      <td>1</td>\n",
       "    </tr>\n",
       "    <tr>\n",
       "      <th>0</th>\n",
       "      <td>-0.374978</td>\n",
       "      <td>0.672824</td>\n",
       "      <td>9.570090</td>\n",
       "      <td>0.008233</td>\n",
       "      <td>-0.016506</td>\n",
       "      <td>-0.037798</td>\n",
       "      <td>0.235341</td>\n",
       "      <td>0.213451</td>\n",
       "      <td>0.271166</td>\n",
       "      <td>0.013928</td>\n",
       "      <td>...</td>\n",
       "      <td>0.0</td>\n",
       "      <td>0.0</td>\n",
       "      <td>0.0</td>\n",
       "      <td>2.315844e+22</td>\n",
       "      <td>2.315844e+22</td>\n",
       "      <td>2.315844e+22</td>\n",
       "      <td>152178986337</td>\n",
       "      <td>152178986549</td>\n",
       "      <td>0</td>\n",
       "      <td>1</td>\n",
       "    </tr>\n",
       "    <tr>\n",
       "      <th>0</th>\n",
       "      <td>-0.313581</td>\n",
       "      <td>0.429496</td>\n",
       "      <td>9.818923</td>\n",
       "      <td>0.000324</td>\n",
       "      <td>-0.010486</td>\n",
       "      <td>-0.039492</td>\n",
       "      <td>0.153429</td>\n",
       "      <td>0.272872</td>\n",
       "      <td>0.344815</td>\n",
       "      <td>0.010959</td>\n",
       "      <td>...</td>\n",
       "      <td>0.0</td>\n",
       "      <td>0.0</td>\n",
       "      <td>0.0</td>\n",
       "      <td>2.315844e+22</td>\n",
       "      <td>2.315844e+22</td>\n",
       "      <td>2.315844e+22</td>\n",
       "      <td>152178986549</td>\n",
       "      <td>152178986762</td>\n",
       "      <td>0</td>\n",
       "      <td>1</td>\n",
       "    </tr>\n",
       "  </tbody>\n",
       "</table>\n",
       "<p>5 rows × 82 columns</p>\n",
       "</div>"
      ],
      "text/plain": [
       "    mean_ax   mean_ay   mean_az   mean_gx   mean_gy   mean_gz     sd_ax  \\\n",
       "0 -0.333256 -0.529265  9.790426  0.001520 -0.000742 -0.004106  0.242658   \n",
       "0 -0.422345 -0.421185  9.919289  0.005632 -0.011685 -0.034437  0.254251   \n",
       "0 -0.312917 -0.081383  9.855358  0.006088 -0.000170 -0.020531  0.279257   \n",
       "0 -0.374978  0.672824  9.570090  0.008233 -0.016506 -0.037798  0.235341   \n",
       "0 -0.313581  0.429496  9.818923  0.000324 -0.010486 -0.039492  0.153429   \n",
       "\n",
       "      sd_ay     sd_az     sd_gx   ...     fft_ax  fft_ay  fft_az  \\\n",
       "0  0.162682  0.286165  0.002502   ...        0.0     0.0     0.0   \n",
       "0  0.158947  0.201366  0.007812   ...        0.0     0.0     0.0   \n",
       "0  0.514140  0.223400  0.006141   ...        0.0     0.0     0.0   \n",
       "0  0.213451  0.271166  0.013928   ...        0.0     0.0     0.0   \n",
       "0  0.272872  0.344815  0.010959   ...        0.0     0.0     0.0   \n",
       "\n",
       "          sp_ax         sp_ay         sp_az      ts_start        ts_end  \\\n",
       "0  2.315844e+22  2.315844e+22  2.315844e+22  152178985702  152178985912   \n",
       "0  2.315844e+22  2.315844e+22  2.315844e+22  152178985912  152178986124   \n",
       "0  2.315844e+22  2.315844e+22  2.315844e+22  152178986124  152178986337   \n",
       "0  2.315844e+22  2.315844e+22  2.315844e+22  152178986337  152178986549   \n",
       "0  2.315844e+22  2.315844e+22  2.315844e+22  152178986549  152178986762   \n",
       "\n",
       "   label  file_id  \n",
       "0      0        1  \n",
       "0      0        1  \n",
       "0      0        1  \n",
       "0      0        1  \n",
       "0      0        1  \n",
       "\n",
       "[5 rows x 82 columns]"
      ]
     },
     "execution_count": 77,
     "metadata": {},
     "output_type": "execute_result"
    }
   ],
   "source": [
    "# putting time stamps at the end\n",
    "cols = list(df_main.columns.values) #Make a list of all of the columns in the df\n",
    "cols.pop(cols.index('ts_start')) #Remove b from list\n",
    "cols.pop(cols.index('ts_end')) #Remove x from list\n",
    "cols.pop(cols.index('label')) # remove label\n",
    "cols.pop(cols.index('file_id'))  # remove file_id\n",
    "df_main = df_main[cols+['ts_start','ts_end', 'label' , 'file_id']]\n",
    "df_main.head()"
   ]
  },
  {
   "cell_type": "code",
   "execution_count": 78,
   "metadata": {},
   "outputs": [
    {
     "name": "stdout",
     "output_type": "stream",
     "text": [
      "no of pts in test file  (606, 82)\n",
      "remaining pts for training and testing  (2874, 82)\n"
     ]
    },
    {
     "data": {
      "text/plain": [
       "0    558\n",
       "1     29\n",
       "2     19\n",
       "Name: label, dtype: int64"
      ]
     },
     "execution_count": 78,
     "metadata": {},
     "output_type": "execute_result"
    }
   ],
   "source": [
    "df_main_copy = df_main.copy()\n",
    "df_main = df_main_copy\n",
    "\n",
    "testdf_16 = df_main[df_main.file_id == 18]    # taking out 16th file for testing purpose seperately \n",
    "print(\"no of pts in test file \" , testdf_16.shape)\n",
    "\n",
    "df_main = df_main[df_main.file_id != 18]\n",
    "print(\"remaining pts for training and testing \" , df_main.shape )\n",
    "\n",
    "testdf_16['label'].value_counts()"
   ]
  },
  {
   "cell_type": "code",
   "execution_count": 79,
   "metadata": {},
   "outputs": [
    {
     "name": "stderr",
     "output_type": "stream",
     "text": [
      "/home/tolani/anaconda3/lib/python3.6/site-packages/ipykernel_launcher.py:1: SettingWithCopyWarning: \n",
      "A value is trying to be set on a copy of a slice from a DataFrame.\n",
      "Try using .loc[row_indexer,col_indexer] = value instead\n",
      "\n",
      "See the caveats in the documentation: http://pandas.pydata.org/pandas-docs/stable/indexing.html#indexing-view-versus-copy\n",
      "  \"\"\"Entry point for launching an IPython kernel.\n",
      "/home/tolani/anaconda3/lib/python3.6/site-packages/ipykernel_launcher.py:2: SettingWithCopyWarning: \n",
      "A value is trying to be set on a copy of a slice from a DataFrame.\n",
      "Try using .loc[row_indexer,col_indexer] = value instead\n",
      "\n",
      "See the caveats in the documentation: http://pandas.pydata.org/pandas-docs/stable/indexing.html#indexing-view-versus-copy\n",
      "  \n",
      "/home/tolani/anaconda3/lib/python3.6/site-packages/ipykernel_launcher.py:3: SettingWithCopyWarning: \n",
      "A value is trying to be set on a copy of a slice from a DataFrame.\n",
      "Try using .loc[row_indexer,col_indexer] = value instead\n",
      "\n",
      "See the caveats in the documentation: http://pandas.pydata.org/pandas-docs/stable/indexing.html#indexing-view-versus-copy\n",
      "  This is separate from the ipykernel package so we can avoid doing imports until\n",
      "/home/tolani/anaconda3/lib/python3.6/site-packages/sklearn/preprocessing/data.py:164: UserWarning: Numerical issues were encountered when centering the data and might not be solved. Dataset may contain too large values. You may need to prescale your features.\n",
      "  warnings.warn(\"Numerical issues were encountered \"\n",
      "/home/tolani/anaconda3/lib/python3.6/site-packages/ipykernel_launcher.py:5: SettingWithCopyWarning: \n",
      "A value is trying to be set on a copy of a slice from a DataFrame.\n",
      "Try using .loc[row_indexer,col_indexer] = value instead\n",
      "\n",
      "See the caveats in the documentation: http://pandas.pydata.org/pandas-docs/stable/indexing.html#indexing-view-versus-copy\n",
      "  \"\"\"\n",
      "/home/tolani/anaconda3/lib/python3.6/site-packages/ipykernel_launcher.py:6: SettingWithCopyWarning: \n",
      "A value is trying to be set on a copy of a slice from a DataFrame.\n",
      "Try using .loc[row_indexer,col_indexer] = value instead\n",
      "\n",
      "See the caveats in the documentation: http://pandas.pydata.org/pandas-docs/stable/indexing.html#indexing-view-versus-copy\n",
      "  \n",
      "/home/tolani/anaconda3/lib/python3.6/site-packages/ipykernel_launcher.py:7: SettingWithCopyWarning: \n",
      "A value is trying to be set on a copy of a slice from a DataFrame.\n",
      "Try using .loc[row_indexer,col_indexer] = value instead\n",
      "\n",
      "See the caveats in the documentation: http://pandas.pydata.org/pandas-docs/stable/indexing.html#indexing-view-versus-copy\n",
      "  import sys\n"
     ]
    },
    {
     "data": {
      "text/html": [
       "<div>\n",
       "<style scoped>\n",
       "    .dataframe tbody tr th:only-of-type {\n",
       "        vertical-align: middle;\n",
       "    }\n",
       "\n",
       "    .dataframe tbody tr th {\n",
       "        vertical-align: top;\n",
       "    }\n",
       "\n",
       "    .dataframe thead th {\n",
       "        text-align: right;\n",
       "    }\n",
       "</style>\n",
       "<table border=\"1\" class=\"dataframe\">\n",
       "  <thead>\n",
       "    <tr style=\"text-align: right;\">\n",
       "      <th></th>\n",
       "      <th>mean_ax</th>\n",
       "      <th>mean_ay</th>\n",
       "      <th>mean_az</th>\n",
       "      <th>mean_gx</th>\n",
       "      <th>mean_gy</th>\n",
       "      <th>mean_gz</th>\n",
       "      <th>sd_ax</th>\n",
       "      <th>sd_ay</th>\n",
       "      <th>sd_az</th>\n",
       "      <th>sd_gx</th>\n",
       "      <th>...</th>\n",
       "      <th>fft_ax</th>\n",
       "      <th>fft_ay</th>\n",
       "      <th>fft_az</th>\n",
       "      <th>sp_ax</th>\n",
       "      <th>sp_ay</th>\n",
       "      <th>sp_az</th>\n",
       "      <th>ts_start</th>\n",
       "      <th>ts_end</th>\n",
       "      <th>label</th>\n",
       "      <th>file_id</th>\n",
       "    </tr>\n",
       "  </thead>\n",
       "  <tbody>\n",
       "    <tr>\n",
       "      <th>0</th>\n",
       "      <td>-0.333256</td>\n",
       "      <td>-0.529265</td>\n",
       "      <td>9.790426</td>\n",
       "      <td>0.001520</td>\n",
       "      <td>-0.000742</td>\n",
       "      <td>-0.004106</td>\n",
       "      <td>0.242658</td>\n",
       "      <td>0.162682</td>\n",
       "      <td>0.286165</td>\n",
       "      <td>0.002502</td>\n",
       "      <td>...</td>\n",
       "      <td>0.0</td>\n",
       "      <td>0.0</td>\n",
       "      <td>0.0</td>\n",
       "      <td>-1.284695</td>\n",
       "      <td>-1.284695</td>\n",
       "      <td>-1.284695</td>\n",
       "      <td>152178985702</td>\n",
       "      <td>152178985912</td>\n",
       "      <td>0</td>\n",
       "      <td>1</td>\n",
       "    </tr>\n",
       "    <tr>\n",
       "      <th>0</th>\n",
       "      <td>-0.422345</td>\n",
       "      <td>-0.421185</td>\n",
       "      <td>9.919289</td>\n",
       "      <td>0.005632</td>\n",
       "      <td>-0.011685</td>\n",
       "      <td>-0.034437</td>\n",
       "      <td>0.254251</td>\n",
       "      <td>0.158947</td>\n",
       "      <td>0.201366</td>\n",
       "      <td>0.007812</td>\n",
       "      <td>...</td>\n",
       "      <td>0.0</td>\n",
       "      <td>0.0</td>\n",
       "      <td>0.0</td>\n",
       "      <td>-1.284691</td>\n",
       "      <td>-1.284691</td>\n",
       "      <td>-1.284691</td>\n",
       "      <td>152178985912</td>\n",
       "      <td>152178986124</td>\n",
       "      <td>0</td>\n",
       "      <td>1</td>\n",
       "    </tr>\n",
       "    <tr>\n",
       "      <th>0</th>\n",
       "      <td>-0.312917</td>\n",
       "      <td>-0.081383</td>\n",
       "      <td>9.855358</td>\n",
       "      <td>0.006088</td>\n",
       "      <td>-0.000170</td>\n",
       "      <td>-0.020531</td>\n",
       "      <td>0.279257</td>\n",
       "      <td>0.514140</td>\n",
       "      <td>0.223400</td>\n",
       "      <td>0.006141</td>\n",
       "      <td>...</td>\n",
       "      <td>0.0</td>\n",
       "      <td>0.0</td>\n",
       "      <td>0.0</td>\n",
       "      <td>-1.284687</td>\n",
       "      <td>-1.284687</td>\n",
       "      <td>-1.284687</td>\n",
       "      <td>152178986124</td>\n",
       "      <td>152178986337</td>\n",
       "      <td>0</td>\n",
       "      <td>1</td>\n",
       "    </tr>\n",
       "    <tr>\n",
       "      <th>0</th>\n",
       "      <td>-0.374978</td>\n",
       "      <td>0.672824</td>\n",
       "      <td>9.570090</td>\n",
       "      <td>0.008233</td>\n",
       "      <td>-0.016506</td>\n",
       "      <td>-0.037798</td>\n",
       "      <td>0.235341</td>\n",
       "      <td>0.213451</td>\n",
       "      <td>0.271166</td>\n",
       "      <td>0.013928</td>\n",
       "      <td>...</td>\n",
       "      <td>0.0</td>\n",
       "      <td>0.0</td>\n",
       "      <td>0.0</td>\n",
       "      <td>-1.284683</td>\n",
       "      <td>-1.284683</td>\n",
       "      <td>-1.284683</td>\n",
       "      <td>152178986337</td>\n",
       "      <td>152178986549</td>\n",
       "      <td>0</td>\n",
       "      <td>1</td>\n",
       "    </tr>\n",
       "    <tr>\n",
       "      <th>0</th>\n",
       "      <td>-0.313581</td>\n",
       "      <td>0.429496</td>\n",
       "      <td>9.818923</td>\n",
       "      <td>0.000324</td>\n",
       "      <td>-0.010486</td>\n",
       "      <td>-0.039492</td>\n",
       "      <td>0.153429</td>\n",
       "      <td>0.272872</td>\n",
       "      <td>0.344815</td>\n",
       "      <td>0.010959</td>\n",
       "      <td>...</td>\n",
       "      <td>0.0</td>\n",
       "      <td>0.0</td>\n",
       "      <td>0.0</td>\n",
       "      <td>-1.284679</td>\n",
       "      <td>-1.284679</td>\n",
       "      <td>-1.284679</td>\n",
       "      <td>152178986549</td>\n",
       "      <td>152178986762</td>\n",
       "      <td>0</td>\n",
       "      <td>1</td>\n",
       "    </tr>\n",
       "  </tbody>\n",
       "</table>\n",
       "<p>5 rows × 82 columns</p>\n",
       "</div>"
      ],
      "text/plain": [
       "    mean_ax   mean_ay   mean_az   mean_gx   mean_gy   mean_gz     sd_ax  \\\n",
       "0 -0.333256 -0.529265  9.790426  0.001520 -0.000742 -0.004106  0.242658   \n",
       "0 -0.422345 -0.421185  9.919289  0.005632 -0.011685 -0.034437  0.254251   \n",
       "0 -0.312917 -0.081383  9.855358  0.006088 -0.000170 -0.020531  0.279257   \n",
       "0 -0.374978  0.672824  9.570090  0.008233 -0.016506 -0.037798  0.235341   \n",
       "0 -0.313581  0.429496  9.818923  0.000324 -0.010486 -0.039492  0.153429   \n",
       "\n",
       "      sd_ay     sd_az     sd_gx   ...     fft_ax  fft_ay  fft_az     sp_ax  \\\n",
       "0  0.162682  0.286165  0.002502   ...        0.0     0.0     0.0 -1.284695   \n",
       "0  0.158947  0.201366  0.007812   ...        0.0     0.0     0.0 -1.284691   \n",
       "0  0.514140  0.223400  0.006141   ...        0.0     0.0     0.0 -1.284687   \n",
       "0  0.213451  0.271166  0.013928   ...        0.0     0.0     0.0 -1.284683   \n",
       "0  0.272872  0.344815  0.010959   ...        0.0     0.0     0.0 -1.284679   \n",
       "\n",
       "      sp_ay     sp_az      ts_start        ts_end  label  file_id  \n",
       "0 -1.284695 -1.284695  152178985702  152178985912      0        1  \n",
       "0 -1.284691 -1.284691  152178985912  152178986124      0        1  \n",
       "0 -1.284687 -1.284687  152178986124  152178986337      0        1  \n",
       "0 -1.284683 -1.284683  152178986337  152178986549      0        1  \n",
       "0 -1.284679 -1.284679  152178986549  152178986762      0        1  \n",
       "\n",
       "[5 rows x 82 columns]"
      ]
     },
     "execution_count": 79,
     "metadata": {},
     "output_type": "execute_result"
    }
   ],
   "source": [
    "df_main['fft_ax'] = preprocessing.scale(df_main['fft_ax'])\n",
    "df_main['fft_ay'] = preprocessing.scale(df_main['fft_ay'])\n",
    "df_main['fft_az'] = preprocessing.scale(df_main['fft_az'])\n",
    "\n",
    "df_main['sp_ax'] = preprocessing.scale(df_main['sp_ax'])\n",
    "df_main['sp_ay'] = preprocessing.scale(df_main['sp_ay'])\n",
    "df_main['sp_az'] = preprocessing.scale(df_main['sp_az'])\n",
    "df_main.head()"
   ]
  },
  {
   "cell_type": "markdown",
   "metadata": {},
   "source": [
    "## dividing data into feature matrix and a target vector"
   ]
  },
  {
   "cell_type": "code",
   "execution_count": 80,
   "metadata": {
    "collapsed": true
   },
   "outputs": [],
   "source": [
    "data = np.array(df_main)\n",
    "\n",
    "x = data[:,0:-4]\n",
    "y = data[:,-2:-1]\n",
    "y = y.astype(int)"
   ]
  },
  {
   "cell_type": "code",
   "execution_count": 81,
   "metadata": {},
   "outputs": [
    {
     "name": "stdout",
     "output_type": "stream",
     "text": [
      "(2874, 78)\n"
     ]
    },
    {
     "data": {
      "text/plain": [
       "(2874, 1)"
      ]
     },
     "execution_count": 81,
     "metadata": {},
     "output_type": "execute_result"
    }
   ],
   "source": [
    "#y_train\n",
    "print(x.shape)\n",
    "y.shape"
   ]
  },
  {
   "cell_type": "code",
   "execution_count": null,
   "metadata": {
    "collapsed": true
   },
   "outputs": [],
   "source": []
  },
  {
   "cell_type": "code",
   "execution_count": 82,
   "metadata": {
    "collapsed": true
   },
   "outputs": [],
   "source": [
    "#df_main.isnull().any()"
   ]
  },
  {
   "cell_type": "markdown",
   "metadata": {},
   "source": [
    "## applying pca on data to visualize it , coln std the feature matrix"
   ]
  },
  {
   "cell_type": "code",
   "execution_count": 83,
   "metadata": {},
   "outputs": [
    {
     "name": "stdout",
     "output_type": "stream",
     "text": [
      "(2874, 78)\n"
     ]
    },
    {
     "name": "stderr",
     "output_type": "stream",
     "text": [
      "/home/tolani/anaconda3/lib/python3.6/site-packages/sklearn/utils/validation.py:475: DataConversionWarning: Data with input dtype object was converted to float64 by StandardScaler.\n",
      "  warnings.warn(msg, DataConversionWarning)\n"
     ]
    }
   ],
   "source": [
    "# Data-preprocessing: Standardizing the data matrix 'x'\n",
    "\n",
    "from sklearn.preprocessing import StandardScaler\n",
    "standardized_data = StandardScaler().fit_transform(x)\n",
    "print(standardized_data.shape)\n",
    "\n",
    "# coln std our feature matrix \n",
    "\n",
    "x = standardized_data"
   ]
  },
  {
   "cell_type": "code",
   "execution_count": 84,
   "metadata": {
    "collapsed": true
   },
   "outputs": [],
   "source": [
    "# initializing the pca\n",
    "\n",
    "from sklearn import decomposition\n",
    "pca = decomposition.PCA()\n"
   ]
  },
  {
   "cell_type": "code",
   "execution_count": 85,
   "metadata": {},
   "outputs": [
    {
     "name": "stdout",
     "output_type": "stream",
     "text": [
      "shape of pca_reduced.shape =  (2874, 2)\n"
     ]
    }
   ],
   "source": [
    "# configuring the parameteres\n",
    "# the number of components = 2\n",
    "pca.n_components = 2     # so as we wnt top two eigen vectors we pass 2 here\n",
    "pca_data = pca.fit_transform(x)  # note tht sampled_data has been standardized already\n",
    "\n",
    "# pca_reduced will contain the 2-d projects of simple data\n",
    "print(\"shape of pca_reduced.shape = \", pca_data.shape)\n"
   ]
  },
  {
   "cell_type": "code",
   "execution_count": 86,
   "metadata": {},
   "outputs": [
    {
     "data": {
      "image/png": "[encoded data removed]",
      "text/plain": [
       "<matplotlib.figure.Figure at 0x7f99e01538d0>"
      ]
     },
     "metadata": {},
     "output_type": "display_data"
    }
   ],
   "source": [
    "# attaching the label for each 2-d data point \n",
    "import seaborn as sn\n",
    "\n",
    "#print(pca_data.shape , \" \" , y.shape)\n",
    "\n",
    "pca_data = np.hstack((pca_data, y))\n",
    "\n",
    "# creating a new data fram which help us in ploting the result data\n",
    "pca_df = pd.DataFrame(data=pca_data, columns=(\"1st_principal\", \"2nd_principal\", \"label\"))\n",
    "sn.FacetGrid(pca_df, hue=\"label\", size=6).map(plt.scatter, '1st_principal', '2nd_principal').add_legend()\n",
    "plt.show()\n",
    "\n",
    "# https://scipython.com/book/chapter-6-numpy/examples/vstack-and-hstack/"
   ]
  },
  {
   "cell_type": "markdown",
   "metadata": {},
   "source": [
    "### applying T SNE on dataset for better visualization of data"
   ]
  },
  {
   "cell_type": "code",
   "execution_count": 22,
   "metadata": {},
   "outputs": [
    {
     "data": {
      "image/png": "[encoded data removed]",
      "text/plain": [
       "<matplotlib.figure.Figure at 0x7f99e446c630>"
      ]
     },
     "metadata": {},
     "output_type": "display_data"
    }
   ],
   "source": [
    "# TSNE\n",
    "\n",
    "from sklearn.manifold import TSNE\n",
    "\n",
    "model = TSNE(n_components=2, random_state=0)\n",
    "\n",
    "tsne_data = model.fit_transform(x)\n",
    "\n",
    "# creating a new data frame which help us in ploting the result data\n",
    "tsne_data = np.hstack((tsne_data, y))\n",
    "tsne_df = pd.DataFrame(data=tsne_data, columns=(\"Dim_1\", \"Dim_2\", \"label\"))\n",
    "\n",
    "# Ploting the result of tsne\n",
    "sn.FacetGrid(tsne_df, hue=\"label\", size=6).map(plt.scatter, 'Dim_1', 'Dim_2').add_legend()\n",
    "plt.show()"
   ]
  },
  {
   "cell_type": "markdown",
   "metadata": {},
   "source": [
    " ### balancing the data by upsampling & downsampling method : SMOTE + ENN"
   ]
  },
  {
   "cell_type": "code",
   "execution_count": 87,
   "metadata": {},
   "outputs": [
    {
     "name": "stdout",
     "output_type": "stream",
     "text": [
      "Automatically created module for IPython interactive environment\n"
     ]
    },
    {
     "name": "stderr",
     "output_type": "stream",
     "text": [
      "/home/tolani/anaconda3/lib/python3.6/site-packages/sklearn/utils/validation.py:578: DataConversionWarning: A column-vector y was passed when a 1d array was expected. Please change the shape of y to (n_samples, ), for example using ravel().\n",
      "  y = column_or_1d(y, warn=True)\n",
      "/home/tolani/anaconda3/lib/python3.6/site-packages/imblearn/utils/deprecation.py:50: DeprecationWarning: 'k' is deprecated from 0.2 and will be removed in 0.4. Use 'k_neighbors' instead.\n",
      "  category=DeprecationWarning)\n"
     ]
    },
    {
     "data": {
      "image/png": "[encoded data removed]",
      "text/plain": [
       "<matplotlib.figure.Figure at 0x7f99e4952b38>"
      ]
     },
     "metadata": {},
     "output_type": "display_data"
    }
   ],
   "source": [
    "import matplotlib.pyplot as plt\n",
    "from sklearn.datasets import make_classification\n",
    "from sklearn.decomposition import PCA\n",
    "\n",
    "from imblearn.combine import SMOTEENN\n",
    "from imblearn.over_sampling import SMOTE\n",
    "from imblearn.ensemble import BalanceCascade\n",
    "\n",
    "print(__doc__)\n",
    "\n",
    "# Generate the dataset\n",
    "#X, y = make_classification(n_classes=2, class_sep=2, weights=[0.1, 0.9],\n",
    "#                           n_informative=3, n_redundant=1, flip_y=0,\n",
    "#                           n_features=20, n_clusters_per_class=1,\n",
    "#                           n_samples=100, random_state=10)\n",
    "\n",
    "# Instanciate a PCA object for the sake of easy visualisation\n",
    "pca = PCA(n_components=2)\n",
    "# Fit and transform x to visualise inside a 2D feature space\n",
    "X_vis = pca.fit_transform(x)\n",
    "\n",
    "# Apply SMOTE + ENN\n",
    "sm = SMOTE(k = 5 , kind='svm')\n",
    "X_resampled, y_resampled = sm.fit_sample(x,y)\n",
    "X_res_vis = pca.transform(X_resampled)\n",
    "\n",
    "# Two subplots, unpack the axes array immediately\n",
    "f, (ax1, ax2) = plt.subplots(1, 2)\n",
    "\n",
    "#print(X_vis.shape, \" \" , X_res_vis.shape , \" \" , y.shape , \" \" , y_resampled.shape)\n",
    "    \n",
    "y = y.reshape(y.shape[0],)\n",
    "#print(y_resampled)\n",
    "\n",
    "c0 = ax1.scatter(X_vis[y == 0, 0], X_vis[y == 0, 1], label=\"Class #0 : no pothole\",alpha=0.5)\n",
    "c1 = ax1.scatter(X_vis[y == 1, 0], X_vis[y == 1, 1], label=\"Class #1 : pothole\",alpha=0.5)\n",
    "ax1.set_title('Original set')\n",
    "\n",
    "ax2.scatter(X_res_vis[y_resampled == 0, 0], X_res_vis[y_resampled == 0, 1],label=\"Class #0 : no pothole\", alpha=0.5)\n",
    "ax2.scatter(X_res_vis[y_resampled == 1, 0], X_res_vis[y_resampled == 1, 1],label=\"Class #1 : pothole\", alpha=0.5)\n",
    "ax2.set_title('SMOTE + ENN')\n",
    "\n",
    "# make nice plotting\n",
    "for ax in (ax1, ax2):\n",
    "    ax.spines['top'].set_visible(False)\n",
    "    ax.spines['right'].set_visible(False)\n",
    "    ax.get_xaxis().tick_bottom()\n",
    "    ax.get_yaxis().tick_left()\n",
    "    ax.spines['left'].set_position(('outward', 10))\n",
    "    ax.spines['bottom'].set_position(('outward', 10))\n",
    "    ax.set_xlim([-6, 8])\n",
    "    ax.set_ylim([-6, 6])\n",
    "\n",
    "f.legend((c0, c1), ('Class #0 : no pothole', 'Class #1 : pothole'), loc='lower center',\n",
    "         ncol=2, labelspacing=0.)\n",
    "plt.tight_layout(pad=3)\n",
    "plt.show()\n",
    "\n"
   ]
  },
  {
   "cell_type": "code",
   "execution_count": 88,
   "metadata": {},
   "outputs": [
    {
     "name": "stdout",
     "output_type": "stream",
     "text": [
      "[0 1 2] [2597 2596 2596]\n"
     ]
    }
   ],
   "source": [
    "X_resampled.shape\n",
    "y_resampled.shape\n",
    "#y_resampled['label'].value_counts()\n",
    "a,b = np.unique(y_resampled,return_counts=True)\n",
    "print(a,b)"
   ]
  },
  {
   "cell_type": "markdown",
   "metadata": {},
   "source": [
    "## applying Logistic Regression one vs rest for multiclassficaiton"
   ]
  },
  {
   "cell_type": "code",
   "execution_count": 89,
   "metadata": {},
   "outputs": [
    {
     "name": "stdout",
     "output_type": "stream",
     "text": [
      "89.9229781771502\n",
      "(6231, 78)   (1558, 78)\n"
     ]
    }
   ],
   "source": [
    "#acc_sum = 0\n",
    "#for i in range(100):\n",
    "x_train,x_test,y_train,y_test = train_test_split(X_resampled,y_resampled,test_size = 0.2)\n",
    "\n",
    "model = LogisticRegression(multi_class='ovr')\n",
    "model.fit(x_train,y_train)\n",
    "y_pred = model.predict(x_test)\n",
    "\n",
    "accuracy = accuracy_score(y_pred,y_test) * 100\n",
    "#acc_sum = acc_sum + accuracy\n",
    "print(accuracy)\n",
    "#acc_sum/100\n",
    "print(x_train.shape, \" \", x_test.shape)"
   ]
  },
  {
   "cell_type": "code",
   "execution_count": 90,
   "metadata": {},
   "outputs": [
    {
     "data": {
      "text/plain": [
       "array([[441,  18,  18],\n",
       "       [ 16, 488,  33],\n",
       "       [ 37,  35, 472]])"
      ]
     },
     "execution_count": 90,
     "metadata": {},
     "output_type": "execute_result"
    }
   ],
   "source": [
    "confusion_matrix(y_test, y_pred)"
   ]
  },
  {
   "cell_type": "markdown",
   "metadata": {},
   "source": [
    "## looking at the most important features in classification task : top 20 features out of 81 features"
   ]
  },
  {
   "cell_type": "code",
   "execution_count": 91,
   "metadata": {},
   "outputs": [
    {
     "name": "stdout",
     "output_type": "stream",
     "text": [
      "[27 15 54 11 23 57 41  6 48 28 14 17 29 26 16 36 21 24 38  7]\n",
      "sd_ax\n",
      "sd_ay\n",
      "sd_gz\n",
      "min_az\n",
      "min_gx\n",
      "min_gy\n",
      "min_gz\n",
      "max_gx\n",
      "max_gz\n",
      "var_ax\n",
      "var_az\n",
      "var_gx\n",
      "var_gy\n",
      "var_gz\n",
      "quant1_ax\n",
      "quant1_az\n",
      "quant1_gz\n",
      "quant3_ax\n",
      "mad_ax\n",
      "mad_gx\n"
     ]
    }
   ],
   "source": [
    "abs_weights = np.fabs(model.coef_) \n",
    "\n",
    "#print(model.coef_.shape)\n",
    "#print(model.coef_)\n",
    "\n",
    "#abs_weights.reshape(78,)\n",
    "\n",
    "arr0 = abs_weights[0,:]\n",
    "arr0.reshape(78,)\n",
    "#print(arr0)\n",
    "#print(arr0.shape)\n",
    "\n",
    "sorted_asc = np.argsort(arr0)\n",
    "#print(sorted_asc)\n",
    "\n",
    "sorted_desc = np.flip(sorted_asc,axis =0)\n",
    "#print(\"sorted arr shape\",sorted_desc.shape)\n",
    "\n",
    "top_15_features = sorted_desc[:20]\n",
    "top = top_15_features.ravel()\n",
    "print(top)\n",
    "\n",
    "features_names = df_main.columns\n",
    "#print(features_names)\n",
    "for i in range(0,79):\n",
    "    if(i in top):\n",
    "        print(features_names[i])\n",
    "    else:\n",
    "        pass"
   ]
  },
  {
   "cell_type": "markdown",
   "metadata": {},
   "source": [
    "### applying svm with rbf kernel for multiclassfn"
   ]
  },
  {
   "cell_type": "code",
   "execution_count": 92,
   "metadata": {},
   "outputs": [
    {
     "data": {
      "text/plain": [
       "0.9878048780487805"
      ]
     },
     "execution_count": 92,
     "metadata": {},
     "output_type": "execute_result"
    }
   ],
   "source": [
    "model = SVC(kernel='rbf', C = 10)\n",
    "model.fit(x_train,y_train)\n",
    "y_pred = model.predict(x_test)\n",
    "\n",
    "accuracy_score(y_pred,y_test)"
   ]
  },
  {
   "cell_type": "code",
   "execution_count": 93,
   "metadata": {},
   "outputs": [
    {
     "data": {
      "text/plain": [
       "array([[462,  11,   4],\n",
       "       [  2, 535,   0],\n",
       "       [  1,   1, 542]])"
      ]
     },
     "execution_count": 93,
     "metadata": {},
     "output_type": "execute_result"
    }
   ],
   "source": [
    "confusion_matrix(y_test, y_pred)"
   ]
  },
  {
   "cell_type": "markdown",
   "metadata": {},
   "source": [
    "### applying svm with default kernel"
   ]
  },
  {
   "cell_type": "code",
   "execution_count": 133,
   "metadata": {
    "collapsed": true
   },
   "outputs": [],
   "source": [
    "pca = PCA(0.99)"
   ]
  },
  {
   "cell_type": "code",
   "execution_count": 134,
   "metadata": {},
   "outputs": [
    {
     "data": {
      "text/plain": [
       "PCA(copy=True, iterated_power='auto', n_components=0.99, random_state=None,\n",
       "  svd_solver='auto', tol=0.0, whiten=False)"
      ]
     },
     "execution_count": 134,
     "metadata": {},
     "output_type": "execute_result"
    }
   ],
   "source": [
    "pca.fit(x_train)"
   ]
  },
  {
   "cell_type": "code",
   "execution_count": 135,
   "metadata": {
    "collapsed": true
   },
   "outputs": [],
   "source": [
    "x_trans_train = pca.transform(x_train)\n",
    "x_trans_test = pca.transform(x_test)"
   ]
  },
  {
   "cell_type": "code",
   "execution_count": 136,
   "metadata": {},
   "outputs": [
    {
     "data": {
      "text/plain": [
       "(7460, 33)"
      ]
     },
     "execution_count": 136,
     "metadata": {},
     "output_type": "execute_result"
    }
   ],
   "source": [
    "x_trans_train.shape"
   ]
  },
  {
   "cell_type": "code",
   "execution_count": 137,
   "metadata": {},
   "outputs": [
    {
     "data": {
      "text/plain": [
       "0.986058981233244"
      ]
     },
     "execution_count": 137,
     "metadata": {},
     "output_type": "execute_result"
    }
   ],
   "source": [
    "model = SVC()\n",
    "model.fit(x_trans_train,y_train)\n",
    "y_pred = model.predict(x_trans_test)\n",
    "\n",
    "accuracy_score(y_pred,y_test)"
   ]
  },
  {
   "cell_type": "code",
   "execution_count": 85,
   "metadata": {},
   "outputs": [
    {
     "data": {
      "text/plain": [
       "array([[606,   3,   4],\n",
       "       [  4, 593,   0],\n",
       "       [  9,   0, 595]])"
      ]
     },
     "execution_count": 85,
     "metadata": {},
     "output_type": "execute_result"
    }
   ],
   "source": [
    "confusion_matrix(y_test, y_pred)"
   ]
  },
  {
   "cell_type": "markdown",
   "metadata": {},
   "source": [
    "## Applying nerural network for multi classfn"
   ]
  },
  {
   "cell_type": "markdown",
   "metadata": {},
   "source": [
    "### one hot encoding of classes : https://machinelearningmastery.com/multi-class-classification-tutorial-keras-deep-learning-library/"
   ]
  },
  {
   "cell_type": "code",
   "execution_count": 58,
   "metadata": {
    "collapsed": true
   },
   "outputs": [],
   "source": [
    "\n",
    "from sklearn.preprocessing import LabelEncoder\n",
    "from keras.utils import np_utils\n",
    "\n",
    "# encode class values as integers\n",
    "encoder = LabelEncoder()\n",
    "encoder.fit(y_train)\n",
    "encoded_y_train = encoder.transform(y_train)\n",
    "# convert integers to dummy variables (i.e. one hot encoded)\n",
    "dummy_y_train = np_utils.to_categorical(encoded_y_train)\n",
    "\n",
    "\n",
    "# encode class values as integers\n",
    "encoder = LabelEncoder()\n",
    "encoder.fit(y_test)\n",
    "encoded_y_test = encoder.transform(y_test)\n",
    "# convert integers to dummy variables (i.e. one hot encoded)\n",
    "dummy_y_test = np_utils.to_categorical(encoded_y_test)\n",
    "\n",
    "\n",
    "\n",
    "#print(dummy_y[0:50])\n",
    "\n"
   ]
  },
  {
   "cell_type": "code",
   "execution_count": 59,
   "metadata": {
    "scrolled": true
   },
   "outputs": [
    {
     "name": "stdout",
     "output_type": "stream",
     "text": [
      "Train on 4870 samples, validate on 1218 samples\n",
      "Epoch 1/100\n",
      "4870/4870 [==============================] - 1s 109us/step - loss: 0.7821 - acc: 0.6639 - val_loss: 0.4218 - val_acc: 0.8530\n",
      "Epoch 2/100\n",
      "4870/4870 [==============================] - 0s 53us/step - loss: 0.4663 - acc: 0.8460 - val_loss: 0.3096 - val_acc: 0.9007\n",
      "Epoch 3/100\n",
      "4870/4870 [==============================] - 0s 54us/step - loss: 0.3788 - acc: 0.8715 - val_loss: 0.2866 - val_acc: 0.9146\n",
      "Epoch 4/100\n",
      "4870/4870 [==============================] - 0s 52us/step - loss: 0.3327 - acc: 0.8901 - val_loss: 0.2693 - val_acc: 0.9245\n",
      "Epoch 5/100\n",
      "4870/4870 [==============================] - 0s 51us/step - loss: 0.3057 - acc: 0.8998 - val_loss: 0.2598 - val_acc: 0.9253\n",
      "Epoch 6/100\n",
      "4870/4870 [==============================] - 0s 55us/step - loss: 0.2713 - acc: 0.9160 - val_loss: 0.2475 - val_acc: 0.9294\n",
      "Epoch 7/100\n",
      "4870/4870 [==============================] - 0s 50us/step - loss: 0.2532 - acc: 0.9234 - val_loss: 0.2392 - val_acc: 0.9302\n",
      "Epoch 8/100\n",
      "4870/4870 [==============================] - 0s 53us/step - loss: 0.2403 - acc: 0.9275 - val_loss: 0.2269 - val_acc: 0.9351\n",
      "Epoch 9/100\n",
      "4870/4870 [==============================] - 0s 54us/step - loss: 0.2140 - acc: 0.9368 - val_loss: 0.2245 - val_acc: 0.9376\n",
      "Epoch 10/100\n",
      "4870/4870 [==============================] - 0s 53us/step - loss: 0.1950 - acc: 0.9405 - val_loss: 0.2216 - val_acc: 0.9409\n",
      "Epoch 11/100\n",
      "4870/4870 [==============================] - 0s 50us/step - loss: 0.1839 - acc: 0.9458 - val_loss: 0.2170 - val_acc: 0.9409\n",
      "Epoch 12/100\n",
      "4870/4870 [==============================] - 0s 53us/step - loss: 0.1755 - acc: 0.9511 - val_loss: 0.2051 - val_acc: 0.9466\n",
      "Epoch 13/100\n",
      "4870/4870 [==============================] - 0s 53us/step - loss: 0.1544 - acc: 0.9530 - val_loss: 0.2055 - val_acc: 0.9475\n",
      "Epoch 14/100\n",
      "4870/4870 [==============================] - 0s 53us/step - loss: 0.1584 - acc: 0.9530 - val_loss: 0.2057 - val_acc: 0.9417\n",
      "Epoch 15/100\n",
      "4870/4870 [==============================] - 0s 54us/step - loss: 0.1531 - acc: 0.9567 - val_loss: 0.2053 - val_acc: 0.9475\n",
      "Epoch 16/100\n",
      "4870/4870 [==============================] - 0s 52us/step - loss: 0.1456 - acc: 0.9565 - val_loss: 0.2116 - val_acc: 0.9458\n",
      "Epoch 17/100\n",
      "4870/4870 [==============================] - 0s 51us/step - loss: 0.1347 - acc: 0.9575 - val_loss: 0.2014 - val_acc: 0.9499\n",
      "Epoch 18/100\n",
      "4870/4870 [==============================] - 0s 52us/step - loss: 0.1370 - acc: 0.9567 - val_loss: 0.1875 - val_acc: 0.9548\n",
      "Epoch 19/100\n",
      "4870/4870 [==============================] - 0s 53us/step - loss: 0.1290 - acc: 0.9587 - val_loss: 0.1872 - val_acc: 0.9557\n",
      "Epoch 20/100\n",
      "4870/4870 [==============================] - 0s 50us/step - loss: 0.1138 - acc: 0.9626 - val_loss: 0.1987 - val_acc: 0.9548\n",
      "Epoch 21/100\n",
      "4870/4870 [==============================] - 0s 52us/step - loss: 0.1220 - acc: 0.9614 - val_loss: 0.1904 - val_acc: 0.9557\n",
      "Epoch 22/100\n",
      "4870/4870 [==============================] - 0s 52us/step - loss: 0.1058 - acc: 0.9688 - val_loss: 0.1975 - val_acc: 0.9589\n",
      "Epoch 23/100\n",
      "4870/4870 [==============================] - 0s 52us/step - loss: 0.1136 - acc: 0.9649 - val_loss: 0.1916 - val_acc: 0.9622\n",
      "Epoch 24/100\n",
      "4870/4870 [==============================] - 0s 54us/step - loss: 0.0988 - acc: 0.9676 - val_loss: 0.1976 - val_acc: 0.9622\n",
      "Epoch 25/100\n",
      "4870/4870 [==============================] - 0s 53us/step - loss: 0.1002 - acc: 0.9684 - val_loss: 0.1981 - val_acc: 0.9631\n",
      "Epoch 26/100\n",
      "4870/4870 [==============================] - 0s 50us/step - loss: 0.1032 - acc: 0.9678 - val_loss: 0.1857 - val_acc: 0.9647\n",
      "Epoch 27/100\n",
      "4870/4870 [==============================] - 0s 51us/step - loss: 0.1069 - acc: 0.9651 - val_loss: 0.2037 - val_acc: 0.9565\n",
      "Epoch 28/100\n",
      "4870/4870 [==============================] - 0s 53us/step - loss: 0.0940 - acc: 0.9692 - val_loss: 0.1998 - val_acc: 0.9622\n",
      "Epoch 29/100\n",
      "4870/4870 [==============================] - 0s 53us/step - loss: 0.0896 - acc: 0.9715 - val_loss: 0.1960 - val_acc: 0.9581\n",
      "Epoch 30/100\n",
      "4870/4870 [==============================] - 0s 49us/step - loss: 0.0983 - acc: 0.9663 - val_loss: 0.2050 - val_acc: 0.9598\n",
      "Epoch 31/100\n",
      "4870/4870 [==============================] - 0s 54us/step - loss: 0.0873 - acc: 0.9723 - val_loss: 0.2092 - val_acc: 0.9631\n",
      "Epoch 32/100\n",
      "4870/4870 [==============================] - 0s 53us/step - loss: 0.0801 - acc: 0.9739 - val_loss: 0.2004 - val_acc: 0.9663\n",
      "Epoch 33/100\n",
      "4870/4870 [==============================] - 0s 53us/step - loss: 0.0950 - acc: 0.9690 - val_loss: 0.2015 - val_acc: 0.9622\n",
      "Epoch 34/100\n",
      "4870/4870 [==============================] - 0s 51us/step - loss: 0.0839 - acc: 0.9729 - val_loss: 0.2067 - val_acc: 0.9622\n",
      "Epoch 35/100\n",
      "4870/4870 [==============================] - 0s 52us/step - loss: 0.0813 - acc: 0.9745 - val_loss: 0.2031 - val_acc: 0.9622\n",
      "Epoch 36/100\n",
      "4870/4870 [==============================] - 0s 53us/step - loss: 0.0896 - acc: 0.9678 - val_loss: 0.2062 - val_acc: 0.9614\n",
      "Epoch 37/100\n",
      "4870/4870 [==============================] - 0s 52us/step - loss: 0.0812 - acc: 0.9725 - val_loss: 0.1811 - val_acc: 0.9639\n",
      "Epoch 38/100\n",
      "4870/4870 [==============================] - 0s 53us/step - loss: 0.0755 - acc: 0.9752 - val_loss: 0.2098 - val_acc: 0.9631\n",
      "Epoch 39/100\n",
      "4870/4870 [==============================] - 0s 52us/step - loss: 0.0737 - acc: 0.9762 - val_loss: 0.2193 - val_acc: 0.9631\n",
      "Epoch 40/100\n",
      "4870/4870 [==============================] - 0s 53us/step - loss: 0.0811 - acc: 0.9743 - val_loss: 0.2072 - val_acc: 0.9663\n",
      "Epoch 41/100\n",
      "4870/4870 [==============================] - 0s 52us/step - loss: 0.0677 - acc: 0.9784 - val_loss: 0.2060 - val_acc: 0.9655\n",
      "Epoch 42/100\n",
      "4870/4870 [==============================] - 0s 53us/step - loss: 0.0661 - acc: 0.9749 - val_loss: 0.2093 - val_acc: 0.9663\n",
      "Epoch 43/100\n",
      "4870/4870 [==============================] - 0s 53us/step - loss: 0.0700 - acc: 0.9789 - val_loss: 0.2126 - val_acc: 0.9647\n",
      "Epoch 44/100\n",
      "4870/4870 [==============================] - 0s 51us/step - loss: 0.0733 - acc: 0.9758 - val_loss: 0.2129 - val_acc: 0.9606\n",
      "Epoch 45/100\n",
      "4870/4870 [==============================] - 0s 52us/step - loss: 0.0708 - acc: 0.9749 - val_loss: 0.2105 - val_acc: 0.9663\n",
      "Epoch 46/100\n",
      "4870/4870 [==============================] - 0s 51us/step - loss: 0.0670 - acc: 0.9795 - val_loss: 0.2042 - val_acc: 0.9672\n",
      "Epoch 47/100\n",
      "4870/4870 [==============================] - 0s 53us/step - loss: 0.0654 - acc: 0.9780 - val_loss: 0.2119 - val_acc: 0.9655\n",
      "Epoch 48/100\n",
      "4870/4870 [==============================] - 0s 51us/step - loss: 0.0660 - acc: 0.9778 - val_loss: 0.2087 - val_acc: 0.9672\n",
      "Epoch 49/100\n",
      "4870/4870 [==============================] - 0s 52us/step - loss: 0.0654 - acc: 0.9795 - val_loss: 0.2058 - val_acc: 0.9672\n",
      "Epoch 50/100\n",
      "4870/4870 [==============================] - 0s 52us/step - loss: 0.0728 - acc: 0.9754 - val_loss: 0.2033 - val_acc: 0.9672\n",
      "Epoch 51/100\n",
      "4870/4870 [==============================] - 0s 51us/step - loss: 0.0675 - acc: 0.9770 - val_loss: 0.2078 - val_acc: 0.9696\n",
      "Epoch 52/100\n",
      "4870/4870 [==============================] - 0s 50us/step - loss: 0.0641 - acc: 0.9795 - val_loss: 0.2185 - val_acc: 0.9663\n",
      "Epoch 53/100\n",
      "4870/4870 [==============================] - 0s 52us/step - loss: 0.0547 - acc: 0.9807 - val_loss: 0.2238 - val_acc: 0.9688\n",
      "Epoch 54/100\n",
      "4870/4870 [==============================] - 0s 52us/step - loss: 0.0656 - acc: 0.9780 - val_loss: 0.2178 - val_acc: 0.9663\n",
      "Epoch 55/100\n",
      "4870/4870 [==============================] - 0s 51us/step - loss: 0.0626 - acc: 0.9789 - val_loss: 0.2218 - val_acc: 0.9680\n",
      "Epoch 56/100\n",
      "4870/4870 [==============================] - 0s 52us/step - loss: 0.0576 - acc: 0.9791 - val_loss: 0.2218 - val_acc: 0.9655\n",
      "Epoch 57/100\n",
      "4870/4870 [==============================] - 0s 52us/step - loss: 0.0670 - acc: 0.9791 - val_loss: 0.2241 - val_acc: 0.9655\n",
      "Epoch 58/100\n",
      "4870/4870 [==============================] - 0s 52us/step - loss: 0.0621 - acc: 0.9815 - val_loss: 0.2129 - val_acc: 0.9680\n",
      "Epoch 59/100\n",
      "4870/4870 [==============================] - 0s 51us/step - loss: 0.0636 - acc: 0.9766 - val_loss: 0.2354 - val_acc: 0.9655\n",
      "Epoch 60/100\n",
      "4870/4870 [==============================] - 0s 53us/step - loss: 0.0470 - acc: 0.9825 - val_loss: 0.2421 - val_acc: 0.9672\n",
      "Epoch 61/100\n",
      "4870/4870 [==============================] - 0s 53us/step - loss: 0.0561 - acc: 0.9813 - val_loss: 0.2242 - val_acc: 0.9672\n",
      "Epoch 62/100\n",
      "4870/4870 [==============================] - 0s 53us/step - loss: 0.0565 - acc: 0.9813 - val_loss: 0.2269 - val_acc: 0.9672\n",
      "Epoch 63/100\n",
      "4870/4870 [==============================] - 0s 53us/step - loss: 0.0607 - acc: 0.9799 - val_loss: 0.2227 - val_acc: 0.9688\n",
      "Epoch 64/100\n",
      "4870/4870 [==============================] - 0s 53us/step - loss: 0.0472 - acc: 0.9848 - val_loss: 0.2211 - val_acc: 0.9713\n",
      "Epoch 65/100\n",
      "4870/4870 [==============================] - 0s 52us/step - loss: 0.0537 - acc: 0.9803 - val_loss: 0.2240 - val_acc: 0.9688\n",
      "Epoch 66/100\n",
      "4870/4870 [==============================] - 0s 53us/step - loss: 0.0473 - acc: 0.9825 - val_loss: 0.2312 - val_acc: 0.9704\n",
      "Epoch 67/100\n",
      "4870/4870 [==============================] - 0s 52us/step - loss: 0.0549 - acc: 0.9819 - val_loss: 0.2306 - val_acc: 0.9704\n",
      "Epoch 68/100\n",
      "4870/4870 [==============================] - 0s 54us/step - loss: 0.0499 - acc: 0.9832 - val_loss: 0.2278 - val_acc: 0.9680\n",
      "Epoch 69/100\n",
      "4870/4870 [==============================] - 0s 54us/step - loss: 0.0471 - acc: 0.9817 - val_loss: 0.2432 - val_acc: 0.9696\n",
      "Epoch 70/100\n",
      "4870/4870 [==============================] - 0s 54us/step - loss: 0.0581 - acc: 0.9760 - val_loss: 0.2471 - val_acc: 0.9680\n",
      "Epoch 71/100\n",
      "4870/4870 [==============================] - 0s 50us/step - loss: 0.0574 - acc: 0.9813 - val_loss: 0.2466 - val_acc: 0.9672\n",
      "Epoch 72/100\n",
      "4870/4870 [==============================] - 0s 54us/step - loss: 0.0607 - acc: 0.9801 - val_loss: 0.2253 - val_acc: 0.9688\n",
      "Epoch 73/100\n",
      "4870/4870 [==============================] - 0s 54us/step - loss: 0.0715 - acc: 0.9776 - val_loss: 0.2212 - val_acc: 0.9688\n",
      "Epoch 74/100\n",
      "4870/4870 [==============================] - 0s 53us/step - loss: 0.0451 - acc: 0.9828 - val_loss: 0.2405 - val_acc: 0.9680\n",
      "Epoch 75/100\n",
      "4870/4870 [==============================] - 0s 52us/step - loss: 0.0569 - acc: 0.9782 - val_loss: 0.2330 - val_acc: 0.9704\n",
      "Epoch 76/100\n",
      "4870/4870 [==============================] - 0s 55us/step - loss: 0.0509 - acc: 0.9836 - val_loss: 0.2278 - val_acc: 0.9680\n",
      "Epoch 77/100\n",
      "4870/4870 [==============================] - 0s 53us/step - loss: 0.0486 - acc: 0.9817 - val_loss: 0.2265 - val_acc: 0.9688\n",
      "Epoch 78/100\n",
      "4870/4870 [==============================] - 0s 50us/step - loss: 0.0522 - acc: 0.9789 - val_loss: 0.2451 - val_acc: 0.9663\n",
      "Epoch 79/100\n",
      "4870/4870 [==============================] - 0s 54us/step - loss: 0.0505 - acc: 0.9817 - val_loss: 0.2515 - val_acc: 0.9672\n",
      "Epoch 80/100\n",
      "4870/4870 [==============================] - 0s 52us/step - loss: 0.0524 - acc: 0.9830 - val_loss: 0.2384 - val_acc: 0.9704\n",
      "Epoch 81/100\n",
      "4870/4870 [==============================] - 0s 54us/step - loss: 0.0376 - acc: 0.9860 - val_loss: 0.2493 - val_acc: 0.9663\n",
      "Epoch 82/100\n",
      "4870/4870 [==============================] - 0s 52us/step - loss: 0.0513 - acc: 0.9815 - val_loss: 0.2367 - val_acc: 0.9688\n",
      "Epoch 83/100\n",
      "4870/4870 [==============================] - 0s 53us/step - loss: 0.0450 - acc: 0.9842 - val_loss: 0.2457 - val_acc: 0.9680\n",
      "Epoch 84/100\n",
      "4870/4870 [==============================] - 0s 54us/step - loss: 0.0483 - acc: 0.9821 - val_loss: 0.2450 - val_acc: 0.9696\n",
      "Epoch 85/100\n",
      "4870/4870 [==============================] - 0s 52us/step - loss: 0.0488 - acc: 0.9834 - val_loss: 0.2668 - val_acc: 0.9672\n",
      "Epoch 86/100\n",
      "4870/4870 [==============================] - 0s 53us/step - loss: 0.0518 - acc: 0.9811 - val_loss: 0.2414 - val_acc: 0.9704\n",
      "Epoch 87/100\n",
      "4870/4870 [==============================] - 0s 53us/step - loss: 0.0514 - acc: 0.9830 - val_loss: 0.2581 - val_acc: 0.9663\n",
      "Epoch 88/100\n",
      "4870/4870 [==============================] - 0s 52us/step - loss: 0.0560 - acc: 0.9801 - val_loss: 0.2452 - val_acc: 0.9696\n",
      "Epoch 89/100\n",
      "4870/4870 [==============================] - 0s 52us/step - loss: 0.0545 - acc: 0.9793 - val_loss: 0.2479 - val_acc: 0.9663\n",
      "Epoch 90/100\n",
      "4870/4870 [==============================] - 0s 54us/step - loss: 0.0482 - acc: 0.9819 - val_loss: 0.2435 - val_acc: 0.9696\n",
      "Epoch 91/100\n",
      "4870/4870 [==============================] - 0s 53us/step - loss: 0.0477 - acc: 0.9807 - val_loss: 0.2407 - val_acc: 0.9672\n",
      "Epoch 92/100\n",
      "4870/4870 [==============================] - 0s 52us/step - loss: 0.0526 - acc: 0.9821 - val_loss: 0.2299 - val_acc: 0.9680\n",
      "Epoch 93/100\n",
      "4870/4870 [==============================] - 0s 54us/step - loss: 0.0548 - acc: 0.9803 - val_loss: 0.2307 - val_acc: 0.9672\n",
      "Epoch 94/100\n",
      "4870/4870 [==============================] - 0s 52us/step - loss: 0.0513 - acc: 0.9809 - val_loss: 0.2295 - val_acc: 0.9704\n",
      "Epoch 95/100\n",
      "4870/4870 [==============================] - 0s 53us/step - loss: 0.0521 - acc: 0.9830 - val_loss: 0.2431 - val_acc: 0.9696\n",
      "Epoch 96/100\n",
      "4870/4870 [==============================] - 0s 51us/step - loss: 0.0482 - acc: 0.9821 - val_loss: 0.2467 - val_acc: 0.9680\n",
      "Epoch 97/100\n",
      "4870/4870 [==============================] - 0s 51us/step - loss: 0.0502 - acc: 0.9797 - val_loss: 0.2446 - val_acc: 0.9696\n",
      "Epoch 98/100\n",
      "4870/4870 [==============================] - 0s 53us/step - loss: 0.0402 - acc: 0.9832 - val_loss: 0.2391 - val_acc: 0.9696\n",
      "Epoch 99/100\n",
      "4870/4870 [==============================] - 0s 53us/step - loss: 0.0431 - acc: 0.9825 - val_loss: 0.2483 - val_acc: 0.9721\n",
      "Epoch 100/100\n",
      "4870/4870 [==============================] - 0s 53us/step - loss: 0.0543 - acc: 0.9799 - val_loss: 0.2304 - val_acc: 0.9704\n"
     ]
    },
    {
     "data": {
      "text/plain": [
       "<keras.callbacks.History at 0x7f99e49e1710>"
      ]
     },
     "execution_count": 59,
     "metadata": {},
     "output_type": "execute_result"
    }
   ],
   "source": [
    "# uncomment following to run neural net\n",
    "\n",
    "#acc = []\n",
    "#for i in range(50):\n",
    "# x_train,x_test,y_train,y_test = train_test_split(X_resampled,y_resampled,test_size = 0.33)\n",
    "# model\n",
    "model_nn = Sequential()\n",
    "model_nn.add(Dense(units=100,activation=\"relu\",input_dim =x_train.shape[1]))\n",
    "model_nn.add(Dropout(0.3))\n",
    "model_nn.add(Dense(units=50,activation=\"relu\"))\n",
    "model_nn.add(Dropout(0.3))\n",
    "model_nn.add(Dense(units=10,activation=\"relu\"))\n",
    "model_nn.add(Dropout(0.3))\n",
    "model_nn.add(Dense(units=3,activation=\"sigmoid\"))       # 3 units for 3 classes\n",
    "#model.add(Dense(units=10,activation=\"softmax\"))\n",
    "\n",
    "#compile\n",
    "model_nn.compile(optimizer='adam',loss=\"categorical_crossentropy\",metrics=[\"accuracy\"])\n",
    "\n",
    "#train\n",
    "model_nn.fit(x_train,dummy_y_train, validation_data= (x_test, dummy_y_test), batch_size= 50, epochs= 100)\n",
    "\n"
   ]
  },
  {
   "cell_type": "code",
   "execution_count": 60,
   "metadata": {},
   "outputs": [
    {
     "data": {
      "text/plain": [
       "0.9704433497536946"
      ]
     },
     "execution_count": 60,
     "metadata": {},
     "output_type": "execute_result"
    }
   ],
   "source": [
    "y_pred = model_nn.predict_classes(x_test)\n",
    "accuracy_score(y_test, y_pred)"
   ]
  },
  {
   "cell_type": "code",
   "execution_count": 61,
   "metadata": {
    "collapsed": true
   },
   "outputs": [],
   "source": [
    "cnf_mat = confusion_matrix(y_test, y_pred)"
   ]
  },
  {
   "cell_type": "code",
   "execution_count": 62,
   "metadata": {},
   "outputs": [
    {
     "data": {
      "text/plain": [
       "0.9703257102162579"
      ]
     },
     "execution_count": 62,
     "metadata": {},
     "output_type": "execute_result"
    }
   ],
   "source": [
    "f1_score(y_test, y_pred, average='weighted')"
   ]
  },
  {
   "cell_type": "code",
   "execution_count": 63,
   "metadata": {},
   "outputs": [
    {
     "data": {
      "image/png": "[encoded data removed]",
      "text/plain": [
       "<matplotlib.figure.Figure at 0x7f99d8335080>"
      ]
     },
     "metadata": {},
     "output_type": "display_data"
    }
   ],
   "source": [
    "plot_confusion_matrix(cm           =cnf_mat, \n",
    "                      normalize    = True,\n",
    "                      target_names = ['non-potholes', 'potholes', 'others'],\n",
    "                      title        = \"Confusion Matrix\")"
   ]
  },
  {
   "cell_type": "markdown",
   "metadata": {},
   "source": [
    "## saving model "
   ]
  },
  {
   "cell_type": "code",
   "execution_count": 94,
   "metadata": {
    "collapsed": true
   },
   "outputs": [],
   "source": [
    "import pickle\n",
    "pickle.dump(model,open('model_svm.pkl', 'wb'))"
   ]
  },
  {
   "cell_type": "code",
   "execution_count": 95,
   "metadata": {
    "collapsed": true
   },
   "outputs": [],
   "source": [
    "loaded_model = pickle.load(open('model_svm.pkl', 'rb'))"
   ]
  },
  {
   "cell_type": "code",
   "execution_count": 96,
   "metadata": {},
   "outputs": [
    {
     "name": "stdout",
     "output_type": "stream",
     "text": [
      "(606, 78)\n"
     ]
    },
    {
     "name": "stderr",
     "output_type": "stream",
     "text": [
      "/home/tolani/anaconda3/lib/python3.6/site-packages/sklearn/utils/validation.py:475: DataConversionWarning: Data with input dtype object was converted to float64 by StandardScaler.\n",
      "  warnings.warn(msg, DataConversionWarning)\n"
     ]
    }
   ],
   "source": [
    "data_test = np.array(testdf_16)\n",
    "\n",
    "x = data_test[:,0:-4]\n",
    "y = data_test[:,-2:-1]\n",
    "y = y.astype(int)\n",
    "\n",
    "x.shape\n",
    "y.shape\n",
    "\n",
    "\n",
    "from sklearn.preprocessing import StandardScaler\n",
    "standardized_data = StandardScaler().fit_transform(x)\n",
    "print(standardized_data.shape)\n",
    "\n",
    "# coln std our feature matrix \n",
    "\n",
    "x = standardized_data\n"
   ]
  },
  {
   "cell_type": "code",
   "execution_count": 97,
   "metadata": {},
   "outputs": [
    {
     "data": {
      "text/plain": [
       "array([[539,  11,   8],\n",
       "       [ 14,  10,   5],\n",
       "       [ 10,   2,   7]])"
      ]
     },
     "execution_count": 97,
     "metadata": {},
     "output_type": "execute_result"
    }
   ],
   "source": [
    "confusion_matrix(y,loaded_model.predict(x))"
   ]
  },
  {
   "cell_type": "code",
   "execution_count": 98,
   "metadata": {},
   "outputs": [
    {
     "data": {
      "text/plain": [
       "array([[537,  13,   8],\n",
       "       [ 18,   5,   6],\n",
       "       [  4,   2,  13]])"
      ]
     },
     "execution_count": 98,
     "metadata": {},
     "output_type": "execute_result"
    }
   ],
   "source": [
    "from keras.models import load_model\n",
    "\n",
    "model_nn.save('model_nn.h5')\n",
    "\n",
    "model_nn2 = load_model('model_nn.h5')\n",
    "\n",
    "confusion_matrix(y,model_nn2.predict_classes(x))"
   ]
  },
  {
   "cell_type": "code",
   "execution_count": null,
   "metadata": {
    "collapsed": true
   },
   "outputs": [],
   "source": []
  }
 ],
 "metadata": {
  "kernelspec": {
   "display_name": "Python 3",
   "language": "python",
   "name": "python3"
  },
  "language_info": {
   "codemirror_mode": {
    "name": "ipython",
    "version": 3
   },
   "file_extension": ".py",
   "mimetype": "text/x-python",
   "name": "python",
   "nbconvert_exporter": "python",
   "pygments_lexer": "ipython3",
   "version": "3.6.2"
  }
 },
 "nbformat": 4,
 "nbformat_minor": 2
}
